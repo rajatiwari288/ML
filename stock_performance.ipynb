{
 "cells": [
  {
   "cell_type": "markdown",
   "metadata": {
    "id": "6NBesjUxPGU-"
   },
   "source": [
    "# ~MegaMachine~\n",
    "\n",
    "**Copyright@~MEGAMACHINE~**; \n",
    "\n",
    "Licensed under the Apache License, Version 2.0 (the \"License\");\n",
    "you may not use this file except in compliance with the License. You may obtain a copy of the License at https://www.apache.org/licenses/LICENSE-2.0. Unless required by applicable law or agreed to in writing, software\n",
    "distributed under the License is distributed on an \"AS IS\" BASIS,\n",
    "WITHOUT WARRANTIES OR CONDITIONS OF ANY KIND, either express or implied.\n",
    "See the License for the specific language governing permissions and\n",
    "limitations under the License.\n",
    "\n",
    "**Disclosure: User investments are subjected to market ricks. Nothing in this lecture should be considered as investment advice. Past performance is not necessarily indicative of future returns. Stock portfolio dataset in this lecture is only taken as the general example to show, how one can do data analysis using pandas (in python). I AM NOT REPOSIBLE FOR YOUR ANY KIND OF LOSS/PROFIT ON YOUR STOCKS RETURNS. Consider a financial adviser before investing or invest at your own risk.**"
   ]
  },
  {
   "cell_type": "code",
   "execution_count": 1,
   "metadata": {},
   "outputs": [
    {
     "name": "stdout",
     "output_type": "stream",
     "text": [
      "Requirement already satisfied: matplotlib in c:\\users\\raja.tiwari\\anaconda3\\lib\\site-packages (3.4.3)\n",
      "Requirement already satisfied: pillow>=6.2.0 in c:\\users\\raja.tiwari\\anaconda3\\lib\\site-packages (from matplotlib) (8.4.0)\n",
      "Requirement already satisfied: kiwisolver>=1.0.1 in c:\\users\\raja.tiwari\\anaconda3\\lib\\site-packages (from matplotlib) (1.3.1)\n",
      "Requirement already satisfied: pyparsing>=2.2.1 in c:\\users\\raja.tiwari\\anaconda3\\lib\\site-packages (from matplotlib) (3.0.4)\n",
      "Requirement already satisfied: numpy>=1.16 in c:\\users\\raja.tiwari\\anaconda3\\lib\\site-packages (from matplotlib) (1.20.3)\n",
      "Requirement already satisfied: cycler>=0.10 in c:\\users\\raja.tiwari\\anaconda3\\lib\\site-packages (from matplotlib) (0.10.0)\n",
      "Requirement already satisfied: python-dateutil>=2.7 in c:\\users\\raja.tiwari\\anaconda3\\lib\\site-packages (from matplotlib) (2.8.2)\n",
      "Requirement already satisfied: six in c:\\users\\raja.tiwari\\anaconda3\\lib\\site-packages (from cycler>=0.10->matplotlib) (1.16.0)\n"
     ]
    }
   ],
   "source": [
    "!pip install matplotlib"
   ]
  },
  {
   "cell_type": "code",
   "execution_count": 2,
   "metadata": {
    "colab": {
     "base_uri": "https://localhost:8080/"
    },
    "executionInfo": {
     "elapsed": 691,
     "status": "ok",
     "timestamp": 1623594939816,
     "user": {
      "displayName": "Clash Clans",
      "photoUrl": "",
      "userId": "00562530571182710236"
     },
     "user_tz": -330
    },
    "id": "ZyXksMeROxcO",
    "outputId": "3ab33eee-d831-43df-de49-55f2079326d8"
   },
   "outputs": [
    {
     "name": "stdout",
     "output_type": "stream",
     "text": [
      "Python 3.9.7\n",
      "numpy version: 1.20.3\n",
      "pandas version:  1.3.4\n"
     ]
    }
   ],
   "source": [
    "!python --version   # Python version\n",
    "\n",
    "# About python:  https://www.python.org/\n",
    "#                Python is powerful... and fast; plays well with others; runs everywhere; is friendly & easy to learn; \n",
    "#                is Open –> https://www.python.org/about/.\n",
    "#     Python docs: https://docs.python.org/3/ (all documentation); \n",
    "#                  https://docs.python.org/3.7/ (Recommended version – 3.7). \n",
    "# The Python Tutorial (python3.7): https://docs.python.org/3.7/tutorial/index.html \n",
    "\n",
    "# Load Module ---\n",
    "import numpy as np, pandas as pd, matplotlib.pyplot as plt\n",
    "# NumPy : The fundamental package for scientific computing with Python. NumPy is the fundamental package for scientific \n",
    "#         computing in Python. It is a Python library that provides a multidimensional array object, various derived \n",
    "#         objects (such as masked arrays and matrices), and an assortment of routines for fast operations on arrays, \n",
    "#         including mathematical, logical, shape manipulation, sorting, selecting, I/O, discrete Fourier transforms,\n",
    "#         basic linear algebra, basic statistical operations, random simulation and much more.\n",
    "#     About: https://numpy.org/\n",
    "#     Docs: https://numpy.org/doc/stable/\n",
    "#     NumPy quickstart: https://numpy.org/doc/stable/user/quickstart.html\n",
    "\n",
    "# Pandas: pandas is a fast, powerful, flexible and easy to use open source data analysis and manipulation tool, \n",
    "#         built on top of the Python programming language.\n",
    "#     About: https://pandas.pydata.org/ \n",
    "#     Docs: https://pandas.pydata.org/docs/ \n",
    "#     Getting started: https://pandas.pydata.org/docs/getting_started/index.html \n",
    "#     User Guide: https://pandas.pydata.org/docs/user_guide/index.html#user-guide \n",
    "\n",
    "print('numpy version:',np.__version__)\n",
    "print('pandas version: ',pd.__version__)\n",
    "\n",
    "# column dict \n",
    "column_dict={'ID':'id',\n",
    "             ' Large B/P ':'bp_large',\n",
    "             ' Large ROE ':'roe_large',\n",
    "             ' Large S/P ':'sp_large',\n",
    "             ' Large Return Rate in the last quarter ':'ror_large_last_quarter',\n",
    "             ' Large Market Value ':'mv_large',\n",
    "             ' Small systematic Risk':'systematic_risk_small',\n",
    "             'Annual Return':'annual_return',\n",
    "             'Excess Return':'excess_return',\n",
    "             'Systematic Risk':'systemtic_risk_actual',\n",
    "             'Total Risk':'total_risk',\n",
    "             'Abs. Win Rate':'abs_win_rate',\n",
    "             'Rel. Win Rate':'relative_win_rate',\n",
    "             'Annual Return.1':'annual_return_norm',\n",
    "             'Excess Return.1':'excess_return_norm',\n",
    "             'Systematic Risk.1':'systemtic_risk_actual_norm',\n",
    "             'Total Risk.1':'total_risk_norm',\n",
    "             'Abs. Win Rate.1':'abs_win_rate_norm',\n",
    "             'Rel. Win Rate.1':'relative_win_rate_norm'}\n",
    "# sort by key dict\n",
    "#sorted(column_dict.items(), key=lambda kv: column_dict[kv[0]])\n",
    "# key by value - example 'bp_large'\n",
    "#[k for k,v in column_dict.items() if v == 'bp_large']\n",
    "\n",
    "# MultiIndex\n",
    "mId=pd.IndexSlice"
   ]
  },
  {
   "cell_type": "markdown",
   "metadata": {
    "id": "e-A_8SdqPUdr"
   },
   "source": [
    "# Loading data - Stock Portfolio Performance\n",
    "\n",
    "The dataset of performances of weighted scoring stock portfolios are obtained with mixture design from the US stock market historical database.\n",
    "\n",
    "Dataset source (UCI Machine Learning Repository): https://archive.ics.uci.edu/ml/datasets/Stock+portfolio+performance\n",
    "\n",
    "Dataset download link: stock portfolio performance data set.xlsx"
   ]
  },
  {
   "cell_type": "code",
   "execution_count": 3,
   "metadata": {
    "colab": {
     "base_uri": "https://localhost:8080/",
     "height": 163
    },
    "executionInfo": {
     "elapsed": 2984,
     "status": "ok",
     "timestamp": 1623594947793,
     "user": {
      "displayName": "Clash Clans",
      "photoUrl": "",
      "userId": "00562530571182710236"
     },
     "user_tz": -330
    },
    "id": "_jLwaIRvPSxB",
    "outputId": "f6ad9f68-56cf-4e6f-d6ca-e0d87c1f8290"
   },
   "outputs": [],
   "source": [
    "# Read all sheets \n",
    "total_sheets=6\n",
    "\n",
    "#!wget https://archive.ics.uci.edu/ml/machine-learning-databases/00390/stock%20portfolio%20performance%20data%20set.xlsx\n",
    "data_file_link_xlsx='https://archive.ics.uci.edu/ml/machine-learning-databases/00390/stock%20portfolio%20performance%20data%20set.xlsx'\n",
    "\n",
    "# sheet list\n",
    "sheet_list=list()\n",
    "\n",
    "for sheet in range(total_sheets-1):\n",
    "  # Read dataset \n",
    "  sheet_list.append(pd.read_excel(data_file_link_xlsx,sheet_name=sheet,header=1))\n",
    "\n"
   ]
  },
  {
   "cell_type": "code",
   "execution_count": 4,
   "metadata": {},
   "outputs": [
    {
     "data": {
      "text/html": [
       "<div>\n",
       "<style scoped>\n",
       "    .dataframe tbody tr th:only-of-type {\n",
       "        vertical-align: middle;\n",
       "    }\n",
       "\n",
       "    .dataframe tbody tr th {\n",
       "        vertical-align: top;\n",
       "    }\n",
       "\n",
       "    .dataframe thead th {\n",
       "        text-align: right;\n",
       "    }\n",
       "</style>\n",
       "<table border=\"1\" class=\"dataframe\">\n",
       "  <thead>\n",
       "    <tr style=\"text-align: right;\">\n",
       "      <th></th>\n",
       "      <th></th>\n",
       "      <th>id</th>\n",
       "      <th>bp_large</th>\n",
       "      <th>roe_large</th>\n",
       "      <th>sp_large</th>\n",
       "      <th>ror_large_last_quarter</th>\n",
       "      <th>mv_large</th>\n",
       "      <th>systematic_risk_small</th>\n",
       "      <th>annual_return</th>\n",
       "      <th>excess_return</th>\n",
       "      <th>systemtic_risk_actual</th>\n",
       "      <th>total_risk</th>\n",
       "      <th>abs_win_rate</th>\n",
       "      <th>relative_win_rate</th>\n",
       "      <th>annual_return_norm</th>\n",
       "      <th>excess_return_norm</th>\n",
       "      <th>systemtic_risk_actual_norm</th>\n",
       "      <th>total_risk_norm</th>\n",
       "      <th>abs_win_rate_norm</th>\n",
       "      <th>relative_win_rate_norm</th>\n",
       "    </tr>\n",
       "  </thead>\n",
       "  <tbody>\n",
       "    <tr>\n",
       "      <th rowspan=\"5\" valign=\"top\">sheet_0</th>\n",
       "      <th>0</th>\n",
       "      <td>1</td>\n",
       "      <td>1.000</td>\n",
       "      <td>0.000</td>\n",
       "      <td>0.000</td>\n",
       "      <td>0.000</td>\n",
       "      <td>0.000</td>\n",
       "      <td>0.000</td>\n",
       "      <td>0.019516</td>\n",
       "      <td>0.013399</td>\n",
       "      <td>1.902608</td>\n",
       "      <td>0.218617</td>\n",
       "      <td>0.600</td>\n",
       "      <td>0.400</td>\n",
       "      <td>0.488229</td>\n",
       "      <td>0.609445</td>\n",
       "      <td>0.780756</td>\n",
       "      <td>0.800000</td>\n",
       "      <td>0.68</td>\n",
       "      <td>0.333333</td>\n",
       "    </tr>\n",
       "    <tr>\n",
       "      <th>1</th>\n",
       "      <td>2</td>\n",
       "      <td>0.000</td>\n",
       "      <td>1.000</td>\n",
       "      <td>0.000</td>\n",
       "      <td>0.000</td>\n",
       "      <td>0.000</td>\n",
       "      <td>0.000</td>\n",
       "      <td>0.023829</td>\n",
       "      <td>0.006410</td>\n",
       "      <td>1.263287</td>\n",
       "      <td>0.128740</td>\n",
       "      <td>0.550</td>\n",
       "      <td>0.650</td>\n",
       "      <td>0.505279</td>\n",
       "      <td>0.508169</td>\n",
       "      <td>0.443776</td>\n",
       "      <td>0.414220</td>\n",
       "      <td>0.56</td>\n",
       "      <td>0.666667</td>\n",
       "    </tr>\n",
       "    <tr>\n",
       "      <th>2</th>\n",
       "      <td>3</td>\n",
       "      <td>0.000</td>\n",
       "      <td>0.000</td>\n",
       "      <td>1.000</td>\n",
       "      <td>0.000</td>\n",
       "      <td>0.000</td>\n",
       "      <td>0.000</td>\n",
       "      <td>0.080282</td>\n",
       "      <td>0.026548</td>\n",
       "      <td>1.894339</td>\n",
       "      <td>0.208272</td>\n",
       "      <td>0.550</td>\n",
       "      <td>0.500</td>\n",
       "      <td>0.728484</td>\n",
       "      <td>0.800000</td>\n",
       "      <td>0.776397</td>\n",
       "      <td>0.755594</td>\n",
       "      <td>0.56</td>\n",
       "      <td>0.466667</td>\n",
       "    </tr>\n",
       "    <tr>\n",
       "      <th>3</th>\n",
       "      <td>4</td>\n",
       "      <td>0.000</td>\n",
       "      <td>0.000</td>\n",
       "      <td>0.000</td>\n",
       "      <td>1.000</td>\n",
       "      <td>0.000</td>\n",
       "      <td>0.000</td>\n",
       "      <td>-0.006683</td>\n",
       "      <td>0.000728</td>\n",
       "      <td>1.425454</td>\n",
       "      <td>0.155526</td>\n",
       "      <td>0.550</td>\n",
       "      <td>0.350</td>\n",
       "      <td>0.384640</td>\n",
       "      <td>0.425836</td>\n",
       "      <td>0.529253</td>\n",
       "      <td>0.529196</td>\n",
       "      <td>0.56</td>\n",
       "      <td>0.266667</td>\n",
       "    </tr>\n",
       "    <tr>\n",
       "      <th>4</th>\n",
       "      <td>5</td>\n",
       "      <td>0.000</td>\n",
       "      <td>0.000</td>\n",
       "      <td>0.000</td>\n",
       "      <td>0.000</td>\n",
       "      <td>1.000</td>\n",
       "      <td>0.000</td>\n",
       "      <td>0.021999</td>\n",
       "      <td>0.004407</td>\n",
       "      <td>1.094579</td>\n",
       "      <td>0.106729</td>\n",
       "      <td>0.650</td>\n",
       "      <td>0.700</td>\n",
       "      <td>0.498046</td>\n",
       "      <td>0.479146</td>\n",
       "      <td>0.354852</td>\n",
       "      <td>0.319743</td>\n",
       "      <td>0.80</td>\n",
       "      <td>0.733333</td>\n",
       "    </tr>\n",
       "    <tr>\n",
       "      <th>...</th>\n",
       "      <th>...</th>\n",
       "      <td>...</td>\n",
       "      <td>...</td>\n",
       "      <td>...</td>\n",
       "      <td>...</td>\n",
       "      <td>...</td>\n",
       "      <td>...</td>\n",
       "      <td>...</td>\n",
       "      <td>...</td>\n",
       "      <td>...</td>\n",
       "      <td>...</td>\n",
       "      <td>...</td>\n",
       "      <td>...</td>\n",
       "      <td>...</td>\n",
       "      <td>...</td>\n",
       "      <td>...</td>\n",
       "      <td>...</td>\n",
       "      <td>...</td>\n",
       "      <td>...</td>\n",
       "      <td>...</td>\n",
       "    </tr>\n",
       "    <tr>\n",
       "      <th rowspan=\"5\" valign=\"top\">sheet_4</th>\n",
       "      <th>58</th>\n",
       "      <td>59</td>\n",
       "      <td>0.200</td>\n",
       "      <td>0.200</td>\n",
       "      <td>0.200</td>\n",
       "      <td>0.000</td>\n",
       "      <td>0.200</td>\n",
       "      <td>0.200</td>\n",
       "      <td>0.171000</td>\n",
       "      <td>0.022000</td>\n",
       "      <td>0.940000</td>\n",
       "      <td>0.100000</td>\n",
       "      <td>0.700</td>\n",
       "      <td>0.638</td>\n",
       "      <td>0.685397</td>\n",
       "      <td>0.706792</td>\n",
       "      <td>0.322843</td>\n",
       "      <td>0.329431</td>\n",
       "      <td>0.64</td>\n",
       "      <td>0.729412</td>\n",
       "    </tr>\n",
       "    <tr>\n",
       "      <th>59</th>\n",
       "      <td>60</td>\n",
       "      <td>0.200</td>\n",
       "      <td>0.200</td>\n",
       "      <td>0.000</td>\n",
       "      <td>0.200</td>\n",
       "      <td>0.200</td>\n",
       "      <td>0.200</td>\n",
       "      <td>0.153000</td>\n",
       "      <td>0.018000</td>\n",
       "      <td>0.880000</td>\n",
       "      <td>0.087000</td>\n",
       "      <td>0.725</td>\n",
       "      <td>0.638</td>\n",
       "      <td>0.595786</td>\n",
       "      <td>0.631599</td>\n",
       "      <td>0.259952</td>\n",
       "      <td>0.204156</td>\n",
       "      <td>0.72</td>\n",
       "      <td>0.729412</td>\n",
       "    </tr>\n",
       "    <tr>\n",
       "      <th>60</th>\n",
       "      <td>61</td>\n",
       "      <td>0.200</td>\n",
       "      <td>0.000</td>\n",
       "      <td>0.200</td>\n",
       "      <td>0.200</td>\n",
       "      <td>0.200</td>\n",
       "      <td>0.200</td>\n",
       "      <td>0.156000</td>\n",
       "      <td>0.018000</td>\n",
       "      <td>0.970000</td>\n",
       "      <td>0.104000</td>\n",
       "      <td>0.663</td>\n",
       "      <td>0.525</td>\n",
       "      <td>0.612546</td>\n",
       "      <td>0.631119</td>\n",
       "      <td>0.359730</td>\n",
       "      <td>0.368958</td>\n",
       "      <td>0.52</td>\n",
       "      <td>0.411765</td>\n",
       "    </tr>\n",
       "    <tr>\n",
       "      <th>61</th>\n",
       "      <td>62</td>\n",
       "      <td>0.000</td>\n",
       "      <td>0.200</td>\n",
       "      <td>0.200</td>\n",
       "      <td>0.200</td>\n",
       "      <td>0.200</td>\n",
       "      <td>0.200</td>\n",
       "      <td>0.161000</td>\n",
       "      <td>0.018000</td>\n",
       "      <td>0.980000</td>\n",
       "      <td>0.094000</td>\n",
       "      <td>0.688</td>\n",
       "      <td>0.663</td>\n",
       "      <td>0.635785</td>\n",
       "      <td>0.634402</td>\n",
       "      <td>0.362039</td>\n",
       "      <td>0.277221</td>\n",
       "      <td>0.60</td>\n",
       "      <td>0.800000</td>\n",
       "    </tr>\n",
       "    <tr>\n",
       "      <th>62</th>\n",
       "      <td>63</td>\n",
       "      <td>0.167</td>\n",
       "      <td>0.167</td>\n",
       "      <td>0.167</td>\n",
       "      <td>0.167</td>\n",
       "      <td>0.167</td>\n",
       "      <td>0.167</td>\n",
       "      <td>0.173000</td>\n",
       "      <td>0.022000</td>\n",
       "      <td>0.910000</td>\n",
       "      <td>0.095000</td>\n",
       "      <td>0.713</td>\n",
       "      <td>0.663</td>\n",
       "      <td>0.692692</td>\n",
       "      <td>0.716476</td>\n",
       "      <td>0.296074</td>\n",
       "      <td>0.284923</td>\n",
       "      <td>0.68</td>\n",
       "      <td>0.800000</td>\n",
       "    </tr>\n",
       "  </tbody>\n",
       "</table>\n",
       "<p>315 rows × 19 columns</p>\n",
       "</div>"
      ],
      "text/plain": [
       "            id  bp_large  roe_large  sp_large  ror_large_last_quarter  \\\n",
       "sheet_0 0    1     1.000      0.000     0.000                   0.000   \n",
       "        1    2     0.000      1.000     0.000                   0.000   \n",
       "        2    3     0.000      0.000     1.000                   0.000   \n",
       "        3    4     0.000      0.000     0.000                   1.000   \n",
       "        4    5     0.000      0.000     0.000                   0.000   \n",
       "...         ..       ...        ...       ...                     ...   \n",
       "sheet_4 58  59     0.200      0.200     0.200                   0.000   \n",
       "        59  60     0.200      0.200     0.000                   0.200   \n",
       "        60  61     0.200      0.000     0.200                   0.200   \n",
       "        61  62     0.000      0.200     0.200                   0.200   \n",
       "        62  63     0.167      0.167     0.167                   0.167   \n",
       "\n",
       "            mv_large  systematic_risk_small  annual_return  excess_return  \\\n",
       "sheet_0 0      0.000                  0.000       0.019516       0.013399   \n",
       "        1      0.000                  0.000       0.023829       0.006410   \n",
       "        2      0.000                  0.000       0.080282       0.026548   \n",
       "        3      0.000                  0.000      -0.006683       0.000728   \n",
       "        4      1.000                  0.000       0.021999       0.004407   \n",
       "...              ...                    ...            ...            ...   \n",
       "sheet_4 58     0.200                  0.200       0.171000       0.022000   \n",
       "        59     0.200                  0.200       0.153000       0.018000   \n",
       "        60     0.200                  0.200       0.156000       0.018000   \n",
       "        61     0.200                  0.200       0.161000       0.018000   \n",
       "        62     0.167                  0.167       0.173000       0.022000   \n",
       "\n",
       "            systemtic_risk_actual  total_risk  abs_win_rate  \\\n",
       "sheet_0 0                1.902608    0.218617         0.600   \n",
       "        1                1.263287    0.128740         0.550   \n",
       "        2                1.894339    0.208272         0.550   \n",
       "        3                1.425454    0.155526         0.550   \n",
       "        4                1.094579    0.106729         0.650   \n",
       "...                           ...         ...           ...   \n",
       "sheet_4 58               0.940000    0.100000         0.700   \n",
       "        59               0.880000    0.087000         0.725   \n",
       "        60               0.970000    0.104000         0.663   \n",
       "        61               0.980000    0.094000         0.688   \n",
       "        62               0.910000    0.095000         0.713   \n",
       "\n",
       "            relative_win_rate  annual_return_norm  excess_return_norm  \\\n",
       "sheet_0 0               0.400            0.488229            0.609445   \n",
       "        1               0.650            0.505279            0.508169   \n",
       "        2               0.500            0.728484            0.800000   \n",
       "        3               0.350            0.384640            0.425836   \n",
       "        4               0.700            0.498046            0.479146   \n",
       "...                       ...                 ...                 ...   \n",
       "sheet_4 58              0.638            0.685397            0.706792   \n",
       "        59              0.638            0.595786            0.631599   \n",
       "        60              0.525            0.612546            0.631119   \n",
       "        61              0.663            0.635785            0.634402   \n",
       "        62              0.663            0.692692            0.716476   \n",
       "\n",
       "            systemtic_risk_actual_norm  total_risk_norm  abs_win_rate_norm  \\\n",
       "sheet_0 0                     0.780756         0.800000               0.68   \n",
       "        1                     0.443776         0.414220               0.56   \n",
       "        2                     0.776397         0.755594               0.56   \n",
       "        3                     0.529253         0.529196               0.56   \n",
       "        4                     0.354852         0.319743               0.80   \n",
       "...                                ...              ...                ...   \n",
       "sheet_4 58                    0.322843         0.329431               0.64   \n",
       "        59                    0.259952         0.204156               0.72   \n",
       "        60                    0.359730         0.368958               0.52   \n",
       "        61                    0.362039         0.277221               0.60   \n",
       "        62                    0.296074         0.284923               0.68   \n",
       "\n",
       "            relative_win_rate_norm  \n",
       "sheet_0 0                 0.333333  \n",
       "        1                 0.666667  \n",
       "        2                 0.466667  \n",
       "        3                 0.266667  \n",
       "        4                 0.733333  \n",
       "...                            ...  \n",
       "sheet_4 58                0.729412  \n",
       "        59                0.729412  \n",
       "        60                0.411765  \n",
       "        61                0.800000  \n",
       "        62                0.800000  \n",
       "\n",
       "[315 rows x 19 columns]"
      ]
     },
     "execution_count": 4,
     "metadata": {},
     "output_type": "execute_result"
    }
   ],
   "source": [
    "# 3d dataframe \n",
    "data3d=pd.concat(sheet_list,axis=0,keys=['sheet_'+str(sheet) for sheet in range(total_sheets)])\n",
    "# rename columns \n",
    "data3d.rename(index=None,columns=column_dict,axis=None,copy=True,inplace=True)\n",
    "# see\n",
    "data3d#[data3d['annual_return'] == 0.531874802303275]"
   ]
  },
  {
   "cell_type": "markdown",
   "metadata": {
    "id": "mTO6DRftgMkn"
   },
   "source": [
    "### long term "
   ]
  },
  {
   "cell_type": "code",
   "execution_count": 5,
   "metadata": {
    "colab": {
     "base_uri": "https://localhost:8080/",
     "height": 199
    },
    "executionInfo": {
     "elapsed": 391,
     "status": "ok",
     "timestamp": 1623595055084,
     "user": {
      "displayName": "Clash Clans",
      "photoUrl": "",
      "userId": "00562530571182710236"
     },
     "user_tz": -330
    },
    "id": "wjrUq85cbEFw",
    "outputId": "79ff3b26-ca5c-4ebd-8c8b-2f9986b13870"
   },
   "outputs": [
    {
     "name": "stdout",
     "output_type": "stream",
     "text": [
      "worse_three [ 6 41 16]\n",
      "best_three [ 7 22 42]\n"
     ]
    },
    {
     "data": {
      "text/html": [
       "<div>\n",
       "<style scoped>\n",
       "    .dataframe tbody tr th:only-of-type {\n",
       "        vertical-align: middle;\n",
       "    }\n",
       "\n",
       "    .dataframe tbody tr th {\n",
       "        vertical-align: top;\n",
       "    }\n",
       "\n",
       "    .dataframe thead th {\n",
       "        text-align: right;\n",
       "    }\n",
       "</style>\n",
       "<table border=\"1\" class=\"dataframe\">\n",
       "  <thead>\n",
       "    <tr style=\"text-align: right;\">\n",
       "      <th></th>\n",
       "      <th></th>\n",
       "      <th>id</th>\n",
       "      <th>bp_large</th>\n",
       "      <th>roe_large</th>\n",
       "      <th>sp_large</th>\n",
       "      <th>ror_large_last_quarter</th>\n",
       "      <th>mv_large</th>\n",
       "      <th>systematic_risk_small</th>\n",
       "      <th>annual_return</th>\n",
       "      <th>excess_return</th>\n",
       "      <th>systemtic_risk_actual</th>\n",
       "    </tr>\n",
       "  </thead>\n",
       "  <tbody>\n",
       "    <tr>\n",
       "      <th rowspan=\"3\" valign=\"top\">sheet_4</th>\n",
       "      <th>5</th>\n",
       "      <td>6</td>\n",
       "      <td>0.0</td>\n",
       "      <td>0.0</td>\n",
       "      <td>0.0</td>\n",
       "      <td>0.000</td>\n",
       "      <td>0.000</td>\n",
       "      <td>1.000</td>\n",
       "      <td>0.07</td>\n",
       "      <td>-0.005</td>\n",
       "      <td>1.10</td>\n",
       "    </tr>\n",
       "    <tr>\n",
       "      <th>40</th>\n",
       "      <td>41</td>\n",
       "      <td>0.0</td>\n",
       "      <td>0.0</td>\n",
       "      <td>0.0</td>\n",
       "      <td>0.333</td>\n",
       "      <td>0.333</td>\n",
       "      <td>0.333</td>\n",
       "      <td>0.09</td>\n",
       "      <td>0.000</td>\n",
       "      <td>1.13</td>\n",
       "    </tr>\n",
       "    <tr>\n",
       "      <th>15</th>\n",
       "      <td>16</td>\n",
       "      <td>0.0</td>\n",
       "      <td>0.0</td>\n",
       "      <td>0.0</td>\n",
       "      <td>0.500</td>\n",
       "      <td>0.500</td>\n",
       "      <td>0.000</td>\n",
       "      <td>0.09</td>\n",
       "      <td>-0.001</td>\n",
       "      <td>1.15</td>\n",
       "    </tr>\n",
       "  </tbody>\n",
       "</table>\n",
       "</div>"
      ],
      "text/plain": [
       "            id  bp_large  roe_large  sp_large  ror_large_last_quarter  \\\n",
       "sheet_4 5    6       0.0        0.0       0.0                   0.000   \n",
       "        40  41       0.0        0.0       0.0                   0.333   \n",
       "        15  16       0.0        0.0       0.0                   0.500   \n",
       "\n",
       "            mv_large  systematic_risk_small  annual_return  excess_return  \\\n",
       "sheet_4 5      0.000                  1.000           0.07         -0.005   \n",
       "        40     0.333                  0.333           0.09          0.000   \n",
       "        15     0.500                  0.000           0.09         -0.001   \n",
       "\n",
       "            systemtic_risk_actual  \n",
       "sheet_4 5                    1.10  \n",
       "        40                   1.13  \n",
       "        15                   1.15  "
      ]
     },
     "execution_count": 5,
     "metadata": {},
     "output_type": "execute_result"
    }
   ],
   "source": [
    "# See down trends - top three from bottom \n",
    "ltm_worse_three_idx=data3d.loc['sheet_4'].sort_values('annual_return',ascending=True).index[:3]\n",
    "ltm_worse_three=data3d.loc['sheet_4'].sort_values('annual_return',ascending=True).id.values[:3]\n",
    "print('worse_three',ltm_worse_three)\n",
    "\n",
    "# See down trends - top three from top \n",
    "ltm_best_three_idx=data3d.loc['sheet_4'].sort_values('annual_return',ascending=False).index[:3]\n",
    "ltm_best_three=data3d.loc['sheet_4'].sort_values('annual_return',ascending=False).id.values[:3]\n",
    "print('best_three',ltm_best_three)\n",
    "\n",
    "data3d.loc[mId['sheet_4',ltm_worse_three_idx],data3d.columns[:10]]"
   ]
  },
  {
   "cell_type": "code",
   "execution_count": 6,
   "metadata": {
    "colab": {
     "base_uri": "https://localhost:8080/",
     "height": 163
    },
    "executionInfo": {
     "elapsed": 606,
     "status": "ok",
     "timestamp": 1623595078670,
     "user": {
      "displayName": "Clash Clans",
      "photoUrl": "",
      "userId": "00562530571182710236"
     },
     "user_tz": -330
    },
    "id": "rBPRDA9IdALY",
    "outputId": "c5db0484-2983-49fe-9565-4b20b52472fb"
   },
   "outputs": [
    {
     "data": {
      "text/html": [
       "<div>\n",
       "<style scoped>\n",
       "    .dataframe tbody tr th:only-of-type {\n",
       "        vertical-align: middle;\n",
       "    }\n",
       "\n",
       "    .dataframe tbody tr th {\n",
       "        vertical-align: top;\n",
       "    }\n",
       "\n",
       "    .dataframe thead th {\n",
       "        text-align: right;\n",
       "    }\n",
       "</style>\n",
       "<table border=\"1\" class=\"dataframe\">\n",
       "  <thead>\n",
       "    <tr style=\"text-align: right;\">\n",
       "      <th></th>\n",
       "      <th></th>\n",
       "      <th>id</th>\n",
       "      <th>bp_large</th>\n",
       "      <th>roe_large</th>\n",
       "      <th>sp_large</th>\n",
       "      <th>ror_large_last_quarter</th>\n",
       "      <th>mv_large</th>\n",
       "      <th>systematic_risk_small</th>\n",
       "      <th>annual_return</th>\n",
       "      <th>excess_return</th>\n",
       "      <th>systemtic_risk_actual</th>\n",
       "    </tr>\n",
       "  </thead>\n",
       "  <tbody>\n",
       "    <tr>\n",
       "      <th rowspan=\"3\" valign=\"top\">sheet_4</th>\n",
       "      <th>6</th>\n",
       "      <td>7</td>\n",
       "      <td>0.500</td>\n",
       "      <td>0.500</td>\n",
       "      <td>0.000</td>\n",
       "      <td>0.00</td>\n",
       "      <td>0.0</td>\n",
       "      <td>0.0</td>\n",
       "      <td>0.195</td>\n",
       "      <td>0.026</td>\n",
       "      <td>0.97</td>\n",
       "    </tr>\n",
       "    <tr>\n",
       "      <th>21</th>\n",
       "      <td>22</td>\n",
       "      <td>0.333</td>\n",
       "      <td>0.333</td>\n",
       "      <td>0.333</td>\n",
       "      <td>0.00</td>\n",
       "      <td>0.0</td>\n",
       "      <td>0.0</td>\n",
       "      <td>0.192</td>\n",
       "      <td>0.024</td>\n",
       "      <td>1.08</td>\n",
       "    </tr>\n",
       "    <tr>\n",
       "      <th>41</th>\n",
       "      <td>42</td>\n",
       "      <td>0.250</td>\n",
       "      <td>0.250</td>\n",
       "      <td>0.250</td>\n",
       "      <td>0.25</td>\n",
       "      <td>0.0</td>\n",
       "      <td>0.0</td>\n",
       "      <td>0.191</td>\n",
       "      <td>0.024</td>\n",
       "      <td>1.06</td>\n",
       "    </tr>\n",
       "  </tbody>\n",
       "</table>\n",
       "</div>"
      ],
      "text/plain": [
       "            id  bp_large  roe_large  sp_large  ror_large_last_quarter  \\\n",
       "sheet_4 6    7     0.500      0.500     0.000                    0.00   \n",
       "        21  22     0.333      0.333     0.333                    0.00   \n",
       "        41  42     0.250      0.250     0.250                    0.25   \n",
       "\n",
       "            mv_large  systematic_risk_small  annual_return  excess_return  \\\n",
       "sheet_4 6        0.0                    0.0          0.195          0.026   \n",
       "        21       0.0                    0.0          0.192          0.024   \n",
       "        41       0.0                    0.0          0.191          0.024   \n",
       "\n",
       "            systemtic_risk_actual  \n",
       "sheet_4 6                    0.97  \n",
       "        21                   1.08  \n",
       "        41                   1.06  "
      ]
     },
     "execution_count": 6,
     "metadata": {},
     "output_type": "execute_result"
    }
   ],
   "source": [
    "data3d.loc[mId['sheet_4',ltm_best_three_idx],data3d.columns[:10]]"
   ]
  },
  {
   "cell_type": "code",
   "execution_count": 7,
   "metadata": {
    "colab": {
     "base_uri": "https://localhost:8080/",
     "height": 592
    },
    "executionInfo": {
     "elapsed": 1356,
     "status": "ok",
     "timestamp": 1623595106267,
     "user": {
      "displayName": "Clash Clans",
      "photoUrl": "",
      "userId": "00562530571182710236"
     },
     "user_tz": -330
    },
    "id": "grqFRt6qQKWm",
    "outputId": "006ef5e8-6094-4e37-af1b-73a3b4071734"
   },
   "outputs": [
    {
     "data": {
      "image/png": "[encoded data removed]",
      "text/plain": [
       "<Figure size 1080x720 with 6 Axes>"
      ]
     },
     "metadata": {
      "needs_background": "light"
     },
     "output_type": "display_data"
    }
   ],
   "source": [
    "# plot 20 years data for worse three\n",
    "plt.figure(figsize=(15,10))\n",
    "\n",
    "# plot trends \n",
    "# x - axis\n",
    "x_axis=['sheet_'+str(x) for x in range(total_sheets-1)]\n",
    "\n",
    "for n_plot,column in enumerate(data3d.columns[1:7],1):\n",
    "  plt.subplot(2,3,n_plot)\n",
    "  # y - axis\n",
    "  y_axis_all=[data3d.loc[pd.IndexSlice[:,ltm_worse_three_idx[y]],column].values for y in range(3)]\n",
    "  # plot\n",
    "  for n,y_axis in enumerate(y_axis_all,0):\n",
    "    plt.plot(x_axis,y_axis,label=str(n),marker='.')\n",
    "  plt.legend(),plt.ylabel(column)\n",
    "\n",
    "plt.show()"
   ]
  },
  {
   "cell_type": "code",
   "execution_count": 8,
   "metadata": {
    "colab": {
     "base_uri": "https://localhost:8080/",
     "height": 592
    },
    "executionInfo": {
     "elapsed": 1235,
     "status": "ok",
     "timestamp": 1623595116883,
     "user": {
      "displayName": "Clash Clans",
      "photoUrl": "",
      "userId": "00562530571182710236"
     },
     "user_tz": -330
    },
    "id": "MJxQfeB9VzF_",
    "outputId": "8c3f03fd-3e99-411f-9d1b-401c56e512f9"
   },
   "outputs": [
    {
     "data": {
      "image/png": "[encoded data removed]",
      "text/plain": [
       "<Figure size 1080x720 with 6 Axes>"
      ]
     },
     "metadata": {
      "needs_background": "light"
     },
     "output_type": "display_data"
    }
   ],
   "source": [
    "# plot 20 years data for best three\n",
    "plt.figure(figsize=(15,10))\n",
    "\n",
    "# plot trends \n",
    "# x - axis\n",
    "x_axis=['sheet_'+str(x) for x in range(total_sheets-1)]\n",
    "# \n",
    "for n_plot,column in enumerate(data3d.columns[1:7],1):\n",
    "  plt.subplot(2,3,n_plot)\n",
    "  # y - axis\n",
    "  y_axis_all=[data3d.loc[pd.IndexSlice[:,ltm_best_three_idx[y]],column].values for y in range(3)]\n",
    "  # plot\n",
    "  for n,y_axis in enumerate(y_axis_all,0):\n",
    "    plt.plot(x_axis,y_axis,label=str(n),marker='.')\n",
    "  plt.legend(),plt.ylabel(column)\n",
    "\n",
    "plt.show()"
   ]
  },
  {
   "cell_type": "markdown",
   "metadata": {
    "id": "LbYmEGvJg3Hh"
   },
   "source": [
    "### sort term "
   ]
  },
  {
   "cell_type": "code",
   "execution_count": 9,
   "metadata": {
    "colab": {
     "base_uri": "https://localhost:8080/",
     "height": 199
    },
    "executionInfo": {
     "elapsed": 383,
     "status": "ok",
     "timestamp": 1623595234578,
     "user": {
      "displayName": "Clash Clans",
      "photoUrl": "",
      "userId": "00562530571182710236"
     },
     "user_tz": -330
    },
    "id": "JXGV5wfUjVtN",
    "outputId": "db4857e7-7a8c-4c33-e298-fbd252687287"
   },
   "outputs": [
    {
     "name": "stdout",
     "output_type": "stream",
     "text": [
      "worse_three [ 6 17 16]\n",
      "best_three [22  7  3]\n"
     ]
    },
    {
     "data": {
      "text/html": [
       "<div>\n",
       "<style scoped>\n",
       "    .dataframe tbody tr th:only-of-type {\n",
       "        vertical-align: middle;\n",
       "    }\n",
       "\n",
       "    .dataframe tbody tr th {\n",
       "        vertical-align: top;\n",
       "    }\n",
       "\n",
       "    .dataframe thead th {\n",
       "        text-align: right;\n",
       "    }\n",
       "</style>\n",
       "<table border=\"1\" class=\"dataframe\">\n",
       "  <thead>\n",
       "    <tr style=\"text-align: right;\">\n",
       "      <th></th>\n",
       "      <th></th>\n",
       "      <th>id</th>\n",
       "      <th>bp_large</th>\n",
       "      <th>roe_large</th>\n",
       "      <th>sp_large</th>\n",
       "      <th>ror_large_last_quarter</th>\n",
       "      <th>mv_large</th>\n",
       "      <th>systematic_risk_small</th>\n",
       "      <th>annual_return</th>\n",
       "      <th>excess_return</th>\n",
       "      <th>systemtic_risk_actual</th>\n",
       "    </tr>\n",
       "  </thead>\n",
       "  <tbody>\n",
       "    <tr>\n",
       "      <th rowspan=\"2\" valign=\"top\">sheet_0</th>\n",
       "      <th>5</th>\n",
       "      <td>6</td>\n",
       "      <td>0.0</td>\n",
       "      <td>0.0</td>\n",
       "      <td>0.0</td>\n",
       "      <td>0.0</td>\n",
       "      <td>0.0</td>\n",
       "      <td>1.0</td>\n",
       "      <td>-0.053382</td>\n",
       "      <td>-0.014856</td>\n",
       "      <td>0.859995</td>\n",
       "    </tr>\n",
       "    <tr>\n",
       "      <th>16</th>\n",
       "      <td>17</td>\n",
       "      <td>0.5</td>\n",
       "      <td>0.0</td>\n",
       "      <td>0.0</td>\n",
       "      <td>0.0</td>\n",
       "      <td>0.0</td>\n",
       "      <td>0.5</td>\n",
       "      <td>-0.023439</td>\n",
       "      <td>-0.006177</td>\n",
       "      <td>0.977325</td>\n",
       "    </tr>\n",
       "    <tr>\n",
       "      <th>sheet_1</th>\n",
       "      <th>15</th>\n",
       "      <td>16</td>\n",
       "      <td>0.0</td>\n",
       "      <td>0.0</td>\n",
       "      <td>0.0</td>\n",
       "      <td>0.5</td>\n",
       "      <td>0.5</td>\n",
       "      <td>0.0</td>\n",
       "      <td>-0.007220</td>\n",
       "      <td>0.004897</td>\n",
       "      <td>1.141957</td>\n",
       "    </tr>\n",
       "  </tbody>\n",
       "</table>\n",
       "</div>"
      ],
      "text/plain": [
       "            id  bp_large  roe_large  sp_large  ror_large_last_quarter  \\\n",
       "sheet_0 5    6       0.0        0.0       0.0                     0.0   \n",
       "        16  17       0.5        0.0       0.0                     0.0   \n",
       "sheet_1 15  16       0.0        0.0       0.0                     0.5   \n",
       "\n",
       "            mv_large  systematic_risk_small  annual_return  excess_return  \\\n",
       "sheet_0 5        0.0                    1.0      -0.053382      -0.014856   \n",
       "        16       0.0                    0.5      -0.023439      -0.006177   \n",
       "sheet_1 15       0.5                    0.0      -0.007220       0.004897   \n",
       "\n",
       "            systemtic_risk_actual  \n",
       "sheet_0 5                0.859995  \n",
       "        16               0.977325  \n",
       "sheet_1 15               1.141957  "
      ]
     },
     "execution_count": 9,
     "metadata": {},
     "output_type": "execute_result"
    }
   ],
   "source": [
    "# See down trends - top three from bottom \n",
    "stm_worse_three_idx=data3d.sort_values('annual_return',ascending=True).index[:3]\n",
    "stm_worse_three=data3d.sort_values('annual_return',ascending=True).id.values[:3]\n",
    "print('worse_three',stm_worse_three)\n",
    "\n",
    "# See down trends - top three from top \n",
    "stm_best_three_idx=data3d.sort_values('annual_return',ascending=False).index[:3]\n",
    "stm_best_three=data3d.sort_values('annual_return',ascending=False).id.values[:3]\n",
    "print('best_three',stm_best_three)\n",
    "\n",
    "data3d.loc[mId[stm_worse_three_idx],data3d.columns[:10]]"
   ]
  },
  {
   "cell_type": "code",
   "execution_count": 10,
   "metadata": {
    "colab": {
     "base_uri": "https://localhost:8080/",
     "height": 163
    },
    "executionInfo": {
     "elapsed": 1169,
     "status": "ok",
     "timestamp": 1623591420161,
     "user": {
      "displayName": "Clash Clans",
      "photoUrl": "",
      "userId": "00562530571182710236"
     },
     "user_tz": -330
    },
    "id": "urNyq5z3kG4x",
    "outputId": "4570c3a3-47c0-4a4c-9b1c-bff8312b7bd1"
   },
   "outputs": [
    {
     "data": {
      "text/html": [
       "<div>\n",
       "<style scoped>\n",
       "    .dataframe tbody tr th:only-of-type {\n",
       "        vertical-align: middle;\n",
       "    }\n",
       "\n",
       "    .dataframe tbody tr th {\n",
       "        vertical-align: top;\n",
       "    }\n",
       "\n",
       "    .dataframe thead th {\n",
       "        text-align: right;\n",
       "    }\n",
       "</style>\n",
       "<table border=\"1\" class=\"dataframe\">\n",
       "  <thead>\n",
       "    <tr style=\"text-align: right;\">\n",
       "      <th></th>\n",
       "      <th></th>\n",
       "      <th>id</th>\n",
       "      <th>bp_large</th>\n",
       "      <th>roe_large</th>\n",
       "      <th>sp_large</th>\n",
       "      <th>ror_large_last_quarter</th>\n",
       "      <th>mv_large</th>\n",
       "      <th>systematic_risk_small</th>\n",
       "      <th>annual_return</th>\n",
       "      <th>excess_return</th>\n",
       "      <th>systemtic_risk_actual</th>\n",
       "    </tr>\n",
       "  </thead>\n",
       "  <tbody>\n",
       "    <tr>\n",
       "      <th rowspan=\"3\" valign=\"top\">sheet_1</th>\n",
       "      <th>21</th>\n",
       "      <td>22</td>\n",
       "      <td>0.333</td>\n",
       "      <td>0.333</td>\n",
       "      <td>0.333</td>\n",
       "      <td>0.0</td>\n",
       "      <td>0.0</td>\n",
       "      <td>0.0</td>\n",
       "      <td>0.300086</td>\n",
       "      <td>0.073955</td>\n",
       "      <td>1.067218</td>\n",
       "    </tr>\n",
       "    <tr>\n",
       "      <th>6</th>\n",
       "      <td>7</td>\n",
       "      <td>0.500</td>\n",
       "      <td>0.500</td>\n",
       "      <td>0.000</td>\n",
       "      <td>0.0</td>\n",
       "      <td>0.0</td>\n",
       "      <td>0.0</td>\n",
       "      <td>0.297516</td>\n",
       "      <td>0.071642</td>\n",
       "      <td>0.902055</td>\n",
       "    </tr>\n",
       "    <tr>\n",
       "      <th>2</th>\n",
       "      <td>3</td>\n",
       "      <td>0.000</td>\n",
       "      <td>0.000</td>\n",
       "      <td>1.000</td>\n",
       "      <td>0.0</td>\n",
       "      <td>0.0</td>\n",
       "      <td>0.0</td>\n",
       "      <td>0.295726</td>\n",
       "      <td>0.076156</td>\n",
       "      <td>1.316862</td>\n",
       "    </tr>\n",
       "  </tbody>\n",
       "</table>\n",
       "</div>"
      ],
      "text/plain": [
       "            id  bp_large  roe_large  sp_large  ror_large_last_quarter  \\\n",
       "sheet_1 21  22     0.333      0.333     0.333                     0.0   \n",
       "        6    7     0.500      0.500     0.000                     0.0   \n",
       "        2    3     0.000      0.000     1.000                     0.0   \n",
       "\n",
       "            mv_large  systematic_risk_small  annual_return  excess_return  \\\n",
       "sheet_1 21       0.0                    0.0       0.300086       0.073955   \n",
       "        6        0.0                    0.0       0.297516       0.071642   \n",
       "        2        0.0                    0.0       0.295726       0.076156   \n",
       "\n",
       "            systemtic_risk_actual  \n",
       "sheet_1 21               1.067218  \n",
       "        6                0.902055  \n",
       "        2                1.316862  "
      ]
     },
     "execution_count": 10,
     "metadata": {},
     "output_type": "execute_result"
    }
   ],
   "source": [
    "data3d.loc[mId[stm_best_three_idx],data3d.columns[:10]]"
   ]
  },
  {
   "cell_type": "markdown",
   "metadata": {
    "id": "d32NCvvNlgsM"
   },
   "source": [
    "### sort term, minumum risk "
   ]
  },
  {
   "cell_type": "code",
   "execution_count": 11,
   "metadata": {
    "colab": {
     "base_uri": "https://localhost:8080/",
     "height": 225
    },
    "executionInfo": {
     "elapsed": 31,
     "status": "ok",
     "timestamp": 1623591420162,
     "user": {
      "displayName": "Clash Clans",
      "photoUrl": "",
      "userId": "00562530571182710236"
     },
     "user_tz": -330
    },
    "id": "oJdjdTfWkbel",
    "outputId": "e4ea60d9-987a-479b-8004-6d82f318b28c"
   },
   "outputs": [
    {
     "data": {
      "text/html": [
       "<div>\n",
       "<style scoped>\n",
       "    .dataframe tbody tr th:only-of-type {\n",
       "        vertical-align: middle;\n",
       "    }\n",
       "\n",
       "    .dataframe tbody tr th {\n",
       "        vertical-align: top;\n",
       "    }\n",
       "\n",
       "    .dataframe thead th {\n",
       "        text-align: right;\n",
       "    }\n",
       "</style>\n",
       "<table border=\"1\" class=\"dataframe\">\n",
       "  <thead>\n",
       "    <tr style=\"text-align: right;\">\n",
       "      <th></th>\n",
       "      <th></th>\n",
       "      <th>id</th>\n",
       "      <th>bp_large</th>\n",
       "      <th>roe_large</th>\n",
       "      <th>sp_large</th>\n",
       "      <th>ror_large_last_quarter</th>\n",
       "      <th>mv_large</th>\n",
       "      <th>systematic_risk_small</th>\n",
       "      <th>annual_return</th>\n",
       "      <th>excess_return</th>\n",
       "      <th>systemtic_risk_actual</th>\n",
       "      <th>total_risk</th>\n",
       "      <th>abs_win_rate</th>\n",
       "      <th>relative_win_rate</th>\n",
       "      <th>annual_return_norm</th>\n",
       "      <th>excess_return_norm</th>\n",
       "      <th>systemtic_risk_actual_norm</th>\n",
       "      <th>total_risk_norm</th>\n",
       "      <th>abs_win_rate_norm</th>\n",
       "      <th>relative_win_rate_norm</th>\n",
       "    </tr>\n",
       "  </thead>\n",
       "  <tbody>\n",
       "    <tr>\n",
       "      <th rowspan=\"3\" valign=\"top\">sheet_1</th>\n",
       "      <th>21</th>\n",
       "      <td>22</td>\n",
       "      <td>0.333</td>\n",
       "      <td>0.333</td>\n",
       "      <td>0.333</td>\n",
       "      <td>0.0</td>\n",
       "      <td>0.0</td>\n",
       "      <td>0.0</td>\n",
       "      <td>0.300086</td>\n",
       "      <td>0.073955</td>\n",
       "      <td>1.067218</td>\n",
       "      <td>0.120580</td>\n",
       "      <td>0.85</td>\n",
       "      <td>0.85</td>\n",
       "      <td>0.800000</td>\n",
       "      <td>0.781465</td>\n",
       "      <td>0.371233</td>\n",
       "      <td>0.458673</td>\n",
       "      <td>0.800000</td>\n",
       "      <td>0.725</td>\n",
       "    </tr>\n",
       "    <tr>\n",
       "      <th>6</th>\n",
       "      <td>7</td>\n",
       "      <td>0.500</td>\n",
       "      <td>0.500</td>\n",
       "      <td>0.000</td>\n",
       "      <td>0.0</td>\n",
       "      <td>0.0</td>\n",
       "      <td>0.0</td>\n",
       "      <td>0.297516</td>\n",
       "      <td>0.071642</td>\n",
       "      <td>0.902055</td>\n",
       "      <td>0.102550</td>\n",
       "      <td>0.80</td>\n",
       "      <td>0.85</td>\n",
       "      <td>0.794983</td>\n",
       "      <td>0.761993</td>\n",
       "      <td>0.233249</td>\n",
       "      <td>0.318102</td>\n",
       "      <td>0.714286</td>\n",
       "      <td>0.725</td>\n",
       "    </tr>\n",
       "    <tr>\n",
       "      <th>2</th>\n",
       "      <td>3</td>\n",
       "      <td>0.000</td>\n",
       "      <td>0.000</td>\n",
       "      <td>1.000</td>\n",
       "      <td>0.0</td>\n",
       "      <td>0.0</td>\n",
       "      <td>0.0</td>\n",
       "      <td>0.295726</td>\n",
       "      <td>0.076156</td>\n",
       "      <td>1.316862</td>\n",
       "      <td>0.147754</td>\n",
       "      <td>0.65</td>\n",
       "      <td>0.85</td>\n",
       "      <td>0.791489</td>\n",
       "      <td>0.800000</td>\n",
       "      <td>0.579796</td>\n",
       "      <td>0.670530</td>\n",
       "      <td>0.457143</td>\n",
       "      <td>0.725</td>\n",
       "    </tr>\n",
       "    <tr>\n",
       "      <th rowspan=\"2\" valign=\"top\">sheet_3</th>\n",
       "      <th>6</th>\n",
       "      <td>7</td>\n",
       "      <td>0.500</td>\n",
       "      <td>0.500</td>\n",
       "      <td>0.000</td>\n",
       "      <td>0.0</td>\n",
       "      <td>0.0</td>\n",
       "      <td>0.0</td>\n",
       "      <td>0.294884</td>\n",
       "      <td>0.024584</td>\n",
       "      <td>1.060690</td>\n",
       "      <td>0.064909</td>\n",
       "      <td>0.90</td>\n",
       "      <td>0.70</td>\n",
       "      <td>0.800000</td>\n",
       "      <td>0.777744</td>\n",
       "      <td>0.462267</td>\n",
       "      <td>0.460149</td>\n",
       "      <td>0.800000</td>\n",
       "      <td>0.650</td>\n",
       "    </tr>\n",
       "    <tr>\n",
       "      <th>21</th>\n",
       "      <td>22</td>\n",
       "      <td>0.333</td>\n",
       "      <td>0.333</td>\n",
       "      <td>0.333</td>\n",
       "      <td>0.0</td>\n",
       "      <td>0.0</td>\n",
       "      <td>0.0</td>\n",
       "      <td>0.290061</td>\n",
       "      <td>0.022651</td>\n",
       "      <td>1.091540</td>\n",
       "      <td>0.071344</td>\n",
       "      <td>0.80</td>\n",
       "      <td>0.75</td>\n",
       "      <td>0.778624</td>\n",
       "      <td>0.745203</td>\n",
       "      <td>0.491525</td>\n",
       "      <td>0.549004</td>\n",
       "      <td>0.560000</td>\n",
       "      <td>0.725</td>\n",
       "    </tr>\n",
       "  </tbody>\n",
       "</table>\n",
       "</div>"
      ],
      "text/plain": [
       "            id  bp_large  roe_large  sp_large  ror_large_last_quarter  \\\n",
       "sheet_1 21  22     0.333      0.333     0.333                     0.0   \n",
       "        6    7     0.500      0.500     0.000                     0.0   \n",
       "        2    3     0.000      0.000     1.000                     0.0   \n",
       "sheet_3 6    7     0.500      0.500     0.000                     0.0   \n",
       "        21  22     0.333      0.333     0.333                     0.0   \n",
       "\n",
       "            mv_large  systematic_risk_small  annual_return  excess_return  \\\n",
       "sheet_1 21       0.0                    0.0       0.300086       0.073955   \n",
       "        6        0.0                    0.0       0.297516       0.071642   \n",
       "        2        0.0                    0.0       0.295726       0.076156   \n",
       "sheet_3 6        0.0                    0.0       0.294884       0.024584   \n",
       "        21       0.0                    0.0       0.290061       0.022651   \n",
       "\n",
       "            systemtic_risk_actual  total_risk  abs_win_rate  \\\n",
       "sheet_1 21               1.067218    0.120580          0.85   \n",
       "        6                0.902055    0.102550          0.80   \n",
       "        2                1.316862    0.147754          0.65   \n",
       "sheet_3 6                1.060690    0.064909          0.90   \n",
       "        21               1.091540    0.071344          0.80   \n",
       "\n",
       "            relative_win_rate  annual_return_norm  excess_return_norm  \\\n",
       "sheet_1 21               0.85            0.800000            0.781465   \n",
       "        6                0.85            0.794983            0.761993   \n",
       "        2                0.85            0.791489            0.800000   \n",
       "sheet_3 6                0.70            0.800000            0.777744   \n",
       "        21               0.75            0.778624            0.745203   \n",
       "\n",
       "            systemtic_risk_actual_norm  total_risk_norm  abs_win_rate_norm  \\\n",
       "sheet_1 21                    0.371233         0.458673           0.800000   \n",
       "        6                     0.233249         0.318102           0.714286   \n",
       "        2                     0.579796         0.670530           0.457143   \n",
       "sheet_3 6                     0.462267         0.460149           0.800000   \n",
       "        21                    0.491525         0.549004           0.560000   \n",
       "\n",
       "            relative_win_rate_norm  \n",
       "sheet_1 21                   0.725  \n",
       "        6                    0.725  \n",
       "        2                    0.725  \n",
       "sheet_3 6                    0.650  \n",
       "        21                   0.725  "
      ]
     },
     "execution_count": 11,
     "metadata": {},
     "output_type": "execute_result"
    }
   ],
   "source": [
    "data3d.sort_values(['annual_return','systemtic_risk_actual'],ascending=False).head()"
   ]
  },
  {
   "cell_type": "markdown",
   "metadata": {
    "id": "MRewQS2esfji"
   },
   "source": [
    "### predection - long term "
   ]
  },
  {
   "cell_type": "code",
   "execution_count": 12,
   "metadata": {
    "colab": {
     "base_uri": "https://localhost:8080/"
    },
    "executionInfo": {
     "elapsed": 31,
     "status": "ok",
     "timestamp": 1623591420164,
     "user": {
      "displayName": "Clash Clans",
      "photoUrl": "",
      "userId": "00562530571182710236"
     },
     "user_tz": -330
    },
    "id": "nhi8yj4Dsobs",
    "outputId": "ab25acd6-809e-4273-ac79-23583dc57f2a"
   },
   "outputs": [
    {
     "data": {
      "text/plain": [
       "Index(['id', 'bp_large', 'roe_large', 'sp_large', 'ror_large_last_quarter',\n",
       "       'mv_large', 'systematic_risk_small', 'annual_return', 'excess_return',\n",
       "       'systemtic_risk_actual', 'total_risk', 'abs_win_rate',\n",
       "       'relative_win_rate', 'annual_return_norm', 'excess_return_norm',\n",
       "       'systemtic_risk_actual_norm', 'total_risk_norm', 'abs_win_rate_norm',\n",
       "       'relative_win_rate_norm'],\n",
       "      dtype='object')"
      ]
     },
     "execution_count": 12,
     "metadata": {},
     "output_type": "execute_result"
    }
   ],
   "source": [
    "data3d.columns"
   ]
  },
  {
   "cell_type": "markdown",
   "metadata": {
    "id": "ZFj9K03PUrCI"
   },
   "source": [
    "### get data"
   ]
  },
  {
   "cell_type": "code",
   "execution_count": 13,
   "metadata": {
    "colab": {
     "base_uri": "https://localhost:8080/"
    },
    "executionInfo": {
     "elapsed": 363,
     "status": "ok",
     "timestamp": 1623595563665,
     "user": {
      "displayName": "Clash Clans",
      "photoUrl": "",
      "userId": "00562530571182710236"
     },
     "user_tz": -330
    },
    "id": "PSKT4GSkE_uT",
    "outputId": "ce4127b6-9d09-4f74-83f6-af8ef8bf0727"
   },
   "outputs": [
    {
     "data": {
      "text/plain": [
       "((63, 6), (63, 3))"
      ]
     },
     "execution_count": 13,
     "metadata": {},
     "output_type": "execute_result"
    }
   ],
   "source": [
    "# data (input) ['bp_large','roe_large','sp_large','ror_large_last_quarter','mv_large','systematic_risk_small']\n",
    "in_names=['bp_large','roe_large','sp_large','ror_large_last_quarter','mv_large','systematic_risk_small']\n",
    "X=data3d.loc[mId['sheet_4',:],data3d.columns[1:7]].values  # sort term - X=data3d.loc[mId['sheet_0':'sheet_3',:],data3d.columns[1:7]].values\n",
    "\n",
    "# labels (to predict) ['annual_return','excess_return','total_risk']\n",
    "outs_name=['annual_return','excess_return','total_risk']\n",
    "y=data3d.loc[mId['sheet_4',:],['annual_return','excess_return','total_risk']].values # sort term - y=data3d.loc[mId['sheet_0':'sheet_3',:],['annual_return','excess_return','total_risk']].values\n",
    "\n",
    "X.shape,y.shape"
   ]
  },
  {
   "cell_type": "markdown",
   "metadata": {
    "id": "m78rj2GHxwl5"
   },
   "source": [
    "### normalize and split"
   ]
  },
  {
   "cell_type": "code",
   "execution_count": 14,
   "metadata": {
    "colab": {
     "base_uri": "https://localhost:8080/"
    },
    "executionInfo": {
     "elapsed": 990,
     "status": "ok",
     "timestamp": 1623595639239,
     "user": {
      "displayName": "Clash Clans",
      "photoUrl": "",
      "userId": "00562530571182710236"
     },
     "user_tz": -330
    },
    "id": "72sgZkU8vF5K",
    "outputId": "1fed7603-18c8-4327-9487-6357eb725f34"
   },
   "outputs": [
    {
     "data": {
      "text/plain": [
       "((56, 6), (7, 6), (56, 3), (7, 3))"
      ]
     },
     "execution_count": 14,
     "metadata": {},
     "output_type": "execute_result"
    }
   ],
   "source": [
    "# import function \n",
    "from sklearn.preprocessing import normalize\n",
    "# doc -> https://scikit-learn.org/stable/modules/generated/sklearn.preprocessing.Normalizer.html#sklearn.preprocessing.Normalizer\n",
    "\n",
    "X_norm,norms_of_x=normalize(X,norm='l1',axis=0,copy=True,return_norm=True)\n",
    "y_norm,norms_of_y=normalize(y,norm='l1',axis=0,copy=True,return_norm=True)\n",
    "\n",
    "# split\n",
    "from sklearn.model_selection import train_test_split\n",
    "# Source: https://scikit-learn.org/stable/modules/generated/sklearn.model_selection.train_test_split.html\n",
    "nX_train,nX_test,ny_train,ny_test=train_test_split(X_norm,y_norm,test_size=0.10,random_state=7)\n",
    "# _________________________________________________________________\n",
    "# split - un-norm data\n",
    "X_train,X_test,y_train,y_test=train_test_split(X,y,test_size=0.10,random_state=7)\n",
    "\n",
    "# shape\n",
    "nX_train.shape,nX_test.shape,ny_train.shape,ny_test.shape"
   ]
  },
  {
   "cell_type": "markdown",
   "metadata": {
    "id": "Lkm9dwYc3bYe"
   },
   "source": [
    "### liner model"
   ]
  },
  {
   "cell_type": "markdown",
   "metadata": {
    "id": "932uJFDR4G0Q"
   },
   "source": [
    "#### multiple outputs"
   ]
  },
  {
   "cell_type": "code",
   "execution_count": 15,
   "metadata": {
    "colab": {
     "base_uri": "https://localhost:8080/"
    },
    "executionInfo": {
     "elapsed": 377,
     "status": "ok",
     "timestamp": 1623595754076,
     "user": {
      "displayName": "Clash Clans",
      "photoUrl": "",
      "userId": "00562530571182710236"
     },
     "user_tz": -330
    },
    "id": "CW4UGqhByaXK",
    "outputId": "9780ba1e-f988-4bf3-948a-3d25a273a9f3"
   },
   "outputs": [
    {
     "name": "stdout",
     "output_type": "stream",
     "text": [
      "coef_ of shape: (3, 6) : value -\n",
      " [[ 2.202696    2.23229594  2.24975041  2.15741387  2.13026079  2.12529582]\n",
      " [ 5.91621291  5.97400974  6.010513    5.78611649  5.73625632  5.75602156]\n",
      " [-0.31908885 -0.37532361 -0.3165433  -0.32982325 -0.39759677 -0.36089127]]\n",
      "intercept_ of shape: (3,) : value -\n",
      " [-0.19191142 -0.54251533  0.04914567]\n"
     ]
    }
   ],
   "source": [
    "# linear model for multiple outputs - norm data\n",
    "from sklearn.linear_model import LinearRegression\n",
    "# Source: https://scikit-learn.org/stable/modules/generated/sklearn.linear_model.LinearRegression.html\n",
    "\n",
    "# make model for multiple outputs \n",
    "nliner_multi=LinearRegression()\n",
    "# to know more - https://github.com/scikit-learn/scikit-learn/blob/15a949460/sklearn/linear_model/_base.py#L391\n",
    "# train model \n",
    "nliner_multi.fit(nX_train,ny_train)\n",
    "# print coef_\n",
    "print('coef_ of shape:',nliner_multi.coef_.shape,': value -\\n',nliner_multi.coef_)\n",
    "# print intercept_\n",
    "print('intercept_ of shape:',nliner_multi.intercept_.shape,': value -\\n',nliner_multi.intercept_)"
   ]
  },
  {
   "cell_type": "markdown",
   "metadata": {
    "id": "U8VQKxJ35aQZ"
   },
   "source": [
    "#### single outputs"
   ]
  },
  {
   "cell_type": "code",
   "execution_count": 16,
   "metadata": {
    "colab": {
     "base_uri": "https://localhost:8080/"
    },
    "executionInfo": {
     "elapsed": 398,
     "status": "ok",
     "timestamp": 1623596094102,
     "user": {
      "displayName": "Clash Clans",
      "photoUrl": "",
      "userId": "00562530571182710236"
     },
     "user_tz": -330
    },
    "id": "LXvMACi9Vc7U",
    "outputId": "3a976981-893e-48d2-9cf8-db44c80ef0f3"
   },
   "outputs": [
    {
     "name": "stdout",
     "output_type": "stream",
     "text": [
      "coef_ of shape: (6,) : value -\n",
      " [2.202696   2.23229594 2.24975041 2.15741387 2.13026079 2.12529582]\n",
      "intercept_ of shape: () : value -\n",
      " -0.1919114165738755\n"
     ]
    },
    {
     "data": {
      "text/plain": [
       "LinearRegression()"
      ]
     },
     "execution_count": 16,
     "metadata": {},
     "output_type": "execute_result"
    }
   ],
   "source": [
    "# make model for single outputs - norm data\n",
    "nliner_single=LinearRegression()\n",
    "# to know more - https://github.com/scikit-learn/scikit-learn/blob/15a949460/sklearn/linear_model/_base.py#L391\n",
    "\n",
    "# train model \n",
    "nliner_single.fit(nX_train,ny_train[:,0])\n",
    "# print coef_\n",
    "print('coef_ of shape:',nliner_single.coef_.shape,': value -\\n',nliner_single.coef_)\n",
    "# print intercept_\n",
    "print('intercept_ of shape:',nliner_single.intercept_.shape,': value -\\n',nliner_single.intercept_)\n",
    "\n",
    "\n",
    "# make model for single outputs - un-norm data\n",
    "liner_single=LinearRegression()\n",
    "# train model \n",
    "liner_single.fit(X_train,y_train[:,0])"
   ]
  },
  {
   "cell_type": "markdown",
   "metadata": {
    "id": "oO-Rq4RY_s29"
   },
   "source": [
    "#### compair"
   ]
  },
  {
   "cell_type": "code",
   "execution_count": 17,
   "metadata": {
    "colab": {
     "base_uri": "https://localhost:8080/"
    },
    "executionInfo": {
     "elapsed": 7,
     "status": "ok",
     "timestamp": 1623596095923,
     "user": {
      "displayName": "Clash Clans",
      "photoUrl": "",
      "userId": "00562530571182710236"
     },
     "user_tz": -330
    },
    "id": "iORwkHI1R5HX",
    "outputId": "fcbc3e44-ca1e-4132-8461-6dcd24c6102a"
   },
   "outputs": [
    {
     "name": "stdout",
     "output_type": "stream",
     "text": [
      "error multi-outputs norm: [0.01927095 0.005284   0.00775093]\n",
      "error single-outputs norm: 0.01927095114294776\n",
      "error single-outputs un-norm: 0.019270951142947548\n",
      "absolute difference: [-0.02585069 -0.03771539  0.01296044 -0.02185498  0.01766048  0.00254028\n",
      " -0.01631441]\n"
     ]
    }
   ],
   "source": [
    "# error \n",
    "from sklearn.metrics import mean_absolute_error\n",
    "# source: https://scikit-learn.org/stable/modules/generated/sklearn.metrics.mean_absolute_error.html\n",
    "\n",
    "print('error multi-outputs norm:',mean_absolute_error(ny_test,nliner_multi.predict(nX_test),multioutput='raw_values')*norms_of_y) # avg\n",
    "print('error single-outputs norm:',mean_absolute_error(ny_test[:,0],nliner_single.predict(nX_test))*norms_of_y[0]) # avg\n",
    "print('error single-outputs un-norm:',mean_absolute_error(y_test[:,0],liner_single.predict(X_test)))\n",
    "print('absolute difference:',(ny_test[:,0]-nliner_single.predict(nX_test))*norms_of_y[0])"
   ]
  },
  {
   "cell_type": "code",
   "execution_count": 18,
   "metadata": {
    "colab": {
     "base_uri": "https://localhost:8080/",
     "height": 428
    },
    "executionInfo": {
     "elapsed": 630,
     "status": "ok",
     "timestamp": 1623596224556,
     "user": {
      "displayName": "Clash Clans",
      "photoUrl": "",
      "userId": "00562530571182710236"
     },
     "user_tz": -330
    },
    "id": "gKey4mVHAAW1",
    "outputId": "d19269a8-7639-4dd3-fe99-00f4319c8616"
   },
   "outputs": [
    {
     "data": {
      "image/png": "[encoded data removed]",
      "text/plain": [
       "<Figure size 720x504 with 1 Axes>"
      ]
     },
     "metadata": {
      "needs_background": "light"
     },
     "output_type": "display_data"
    }
   ],
   "source": [
    "# plot \n",
    "plt.figure(figsize=(10,7))\n",
    "plt.plot(range(y_test.shape[0]),y_test[:,0],c='b',marker='.',label='true')\n",
    "plt.plot(range(y_test.shape[0]),liner_single.predict(X_test),c='r',marker='*',label='predicted')\n",
    "plt.grid(),plt.legend()\n",
    "plt.show()"
   ]
  },
  {
   "cell_type": "markdown",
   "metadata": {
    "id": "MIf7TykPXRVE"
   },
   "source": [
    "### tree"
   ]
  },
  {
   "cell_type": "code",
   "execution_count": 19,
   "metadata": {
    "colab": {
     "base_uri": "https://localhost:8080/"
    },
    "executionInfo": {
     "elapsed": 614,
     "status": "ok",
     "timestamp": 1623596360708,
     "user": {
      "displayName": "Clash Clans",
      "photoUrl": "",
      "userId": "00562530571182710236"
     },
     "user_tz": -330
    },
    "id": "um15UQxuVUFt",
    "outputId": "dba80466-0c5c-4eb2-d0ad-137f403e6a06"
   },
   "outputs": [
    {
     "name": "stdout",
     "output_type": "stream",
     "text": [
      "error single-outputs un-norm: 0.011428571428571423\n",
      "error single-outputs norm 0.009142857142857128\n"
     ]
    }
   ],
   "source": [
    "# make model for single output \n",
    "from sklearn.tree import DecisionTreeRegressor\n",
    "# source: https://scikit-learn.org/stable/modules/generated/sklearn.tree.DecisionTreeRegressor.html\n",
    "\n",
    "# calculations\n",
    "# MSE = (sum_square_of_left / w_l) + (sum_square_of_right / w_r)\n",
    "# FriedmanMSE = (w_r * total_left_sum - w_l * total_rigth_sum)**2 / (w_r * w_l)\n",
    "\n",
    "# make model - un-norm\n",
    "tree_single=DecisionTreeRegressor(criterion='friedman_mse',random_state=7)\n",
    "# train model \n",
    "tree_single.fit(X_train,y_train[:,0])\n",
    "print('error single-outputs un-norm:',mean_absolute_error(y_test[:,0],tree_single.predict(X_test)))\n",
    "\n",
    "# make model - norm\n",
    "ntree_single=DecisionTreeRegressor(criterion='friedman_mse',random_state=7)\n",
    "# train model \n",
    "ntree_single.fit(nX_train,ny_train[:,0])\n",
    "print('error single-outputs norm',mean_absolute_error(ny_test[:,0],ntree_single.predict(nX_test))*norms_of_y[0])"
   ]
  },
  {
   "cell_type": "markdown",
   "metadata": {
    "id": "gj6VJY2mp4R0"
   },
   "source": [
    "#### visualize"
   ]
  },
  {
   "cell_type": "code",
   "execution_count": 20,
   "metadata": {
    "colab": {
     "base_uri": "https://localhost:8080/",
     "height": 0
    },
    "executionInfo": {
     "elapsed": 1881,
     "status": "ok",
     "timestamp": 1623596365074,
     "user": {
      "displayName": "Clash Clans",
      "photoUrl": "",
      "userId": "00562530571182710236"
     },
     "user_tz": -330
    },
    "id": "t6QXGGmiorzi",
    "outputId": "c0b3333a-35cb-458e-9826-89aaecff31e6"
   },
   "outputs": [
    {
     "data": {
      "image/png": "[encoded data removed]",
      "text/plain": [
       "<Figure size 1440x720 with 1 Axes>"
      ]
     },
     "metadata": {
      "needs_background": "light"
     },
     "output_type": "display_data"
    }
   ],
   "source": [
    "# make model for single output \n",
    "from sklearn.tree import plot_tree\n",
    "\n",
    "plt.figure(figsize=(20,10))\n",
    "sample_tree_single=DecisionTreeRegressor(max_depth=7).fit(X_train[:,0].reshape(-1,1),y_train[:,0])\n",
    "plot_tree(sample_tree_single)\n",
    "plt.show()"
   ]
  },
  {
   "cell_type": "markdown",
   "metadata": {
    "id": "eVv50QDubB5c"
   },
   "source": [
    "### tree vs linear"
   ]
  },
  {
   "cell_type": "code",
   "execution_count": 21,
   "metadata": {
    "colab": {
     "base_uri": "https://localhost:8080/"
    },
    "executionInfo": {
     "elapsed": 575,
     "status": "ok",
     "timestamp": 1623596616241,
     "user": {
      "displayName": "Clash Clans",
      "photoUrl": "",
      "userId": "00562530571182710236"
     },
     "user_tz": -330
    },
    "id": "XlWS1lu00an1",
    "outputId": "38266bea-af89-4054-97cf-1c53da12406c"
   },
   "outputs": [
    {
     "name": "stdout",
     "output_type": "stream",
     "text": [
      "error linear single-outputs un-norm: 0.019270951142947548\n",
      "error tree single-outputs un-norm: 0.011428571428571423\n",
      "absolute difference linear: [-0.02585069 -0.03771539  0.01296044 -0.02185498  0.01766048  0.00254028\n",
      " -0.01631441]\n",
      "absolute difference tree: [-0.003  0.003  0.019  0.008 -0.025  0.008 -0.014]\n",
      "absolute difference linear-tree: [ 0.02285069  0.04071539  0.00603956  0.02985498 -0.04266048  0.00545972\n",
      "  0.00231441]\n"
     ]
    }
   ],
   "source": [
    "print('error linear single-outputs un-norm:',mean_absolute_error(y_test[:,0],liner_single.predict(X_test)))\n",
    "print('error tree single-outputs un-norm:',mean_absolute_error(y_test[:,0],tree_single.predict(X_test)))\n",
    "print('absolute difference linear:',y_test[:,0]-liner_single.predict(X_test))\n",
    "print('absolute difference tree:',y_test[:,0]-tree_single.predict(X_test))\n",
    "print('absolute difference linear-tree:',liner_single.predict(X_test)-tree_single.predict(X_test))"
   ]
  },
  {
   "cell_type": "code",
   "execution_count": 22,
   "metadata": {
    "colab": {
     "base_uri": "https://localhost:8080/",
     "height": 0
    },
    "executionInfo": {
     "elapsed": 23,
     "status": "ok",
     "timestamp": 1623591422043,
     "user": {
      "displayName": "Clash Clans",
      "photoUrl": "",
      "userId": "00562530571182710236"
     },
     "user_tz": -330
    },
    "id": "CFqznfRybe2N",
    "outputId": "0a09309b-2019-4c54-c57a-30d1af7a2dcd"
   },
   "outputs": [
    {
     "data": {
      "image/png": "[encoded data removed]",
      "text/plain": [
       "<Figure size 720x504 with 1 Axes>"
      ]
     },
     "metadata": {
      "needs_background": "light"
     },
     "output_type": "display_data"
    }
   ],
   "source": [
    "# plot \n",
    "plt.figure(figsize=(10,7))\n",
    "plt.plot(range(y_test.shape[0]),y_test[:,0],marker='.',label='true')\n",
    "plt.plot(range(y_test.shape[0]),liner_single.predict(X_test),marker='.',label='predicted linear')\n",
    "plt.plot(range(y_test.shape[0]),tree_single.predict(X_test),marker='.',label='predicted tree')\n",
    "plt.grid(),plt.legend()\n",
    "plt.show()"
   ]
  },
  {
   "cell_type": "markdown",
   "metadata": {
    "id": "JRpcnAz2ejh5"
   },
   "source": [
    "### improving tree"
   ]
  },
  {
   "cell_type": "code",
   "execution_count": 23,
   "metadata": {
    "colab": {
     "base_uri": "https://localhost:8080/"
    },
    "executionInfo": {
     "elapsed": 396,
     "status": "ok",
     "timestamp": 1623597364577,
     "user": {
      "displayName": "Clash Clans",
      "photoUrl": "",
      "userId": "00562530571182710236"
     },
     "user_tz": -330
    },
    "id": "px75pj5iJDVx",
    "outputId": "e12a214c-ddd6-4cb5-9ade-dc1f92d2b85a"
   },
   "outputs": [
    {
     "name": "stdout",
     "output_type": "stream",
     "text": [
      "error Gradient Boosting Regressor-outputs un-norm: 0.007529135019854578\n",
      "error Forest Regressor-outputs un-norm: 0.013411428571428593\n"
     ]
    }
   ],
   "source": [
    "# make model for single output - Gradient Boosting\n",
    "from sklearn.ensemble import GradientBoostingRegressor\n",
    "# source: https://scikit-learn.org/stable/modules/generated/sklearn.ensemble.GradientBoostingRegressor.html\n",
    "\n",
    "# make model - un-norm\n",
    "gboost_tree_single=GradientBoostingRegressor(learning_rate=0.1,criterion='friedman_mse')\n",
    "# train model \n",
    "gboost_tree_single.fit(X_train,y_train[:,0])\n",
    "print('error Gradient Boosting Regressor-outputs un-norm:',mean_absolute_error(y_test[:,0],gboost_tree_single.predict(X_test)))\n",
    "\n",
    "# make model for single output - \n",
    "from sklearn.ensemble import RandomForestRegressor\n",
    "# source: https://scikit-learn.org/stable/modules/generated/sklearn.ensemble.RandomForestRegressor.html\n",
    "\n",
    "# make model - un-norm\n",
    "forest_single=RandomForestRegressor(criterion='friedman_mse')\n",
    "# train model \n",
    "forest_single.fit(X_train,y_train[:,0])\n",
    "print('error Forest Regressor-outputs un-norm:',mean_absolute_error(y_test[:,0],forest_single.predict(X_test)))"
   ]
  },
  {
   "cell_type": "code",
   "execution_count": 24,
   "metadata": {
    "colab": {
     "base_uri": "https://localhost:8080/"
    },
    "executionInfo": {
     "elapsed": 405,
     "status": "ok",
     "timestamp": 1623597590465,
     "user": {
      "displayName": "Clash Clans",
      "photoUrl": "",
      "userId": "00562530571182710236"
     },
     "user_tz": -330
    },
    "id": "V1HlyQ85jgq7",
    "outputId": "e540d63c-a645-4766-9020-65587705a657"
   },
   "outputs": [
    {
     "name": "stdout",
     "output_type": "stream",
     "text": [
      "error Gradient Boosting Regressor-outputs un-norm: 0.007529135019854578\n",
      "error tree single-outputs un-norm: 0.011428571428571423\n",
      "error linear single-outputs un-norm: 0.019270951142947548\n",
      "Gradient Boosting Regressor score: 0.9057719335358216\n",
      "tree score: 0.811187390827477\n",
      "linear score: 0.5278509157028601\n"
     ]
    }
   ],
   "source": [
    "print('error Gradient Boosting Regressor-outputs un-norm:',mean_absolute_error(y_test[:,0],gboost_tree_single.predict(X_test)))\n",
    "print('error tree single-outputs un-norm:',mean_absolute_error(y_test[:,0],tree_single.predict(X_test)))\n",
    "print('error linear single-outputs un-norm:',mean_absolute_error(y_test[:,0],liner_single.predict(X_test)))\n",
    "print('Gradient Boosting Regressor score:',gboost_tree_single.score(X_test,y_test[:,0]))\n",
    "print('tree score:',tree_single.score(X_test,y_test[:,0]))\n",
    "print('linear score:',liner_single.score(X_test,y_test[:,0]))"
   ]
  },
  {
   "cell_type": "code",
   "execution_count": 25,
   "metadata": {
    "colab": {
     "base_uri": "https://localhost:8080/",
     "height": 428
    },
    "executionInfo": {
     "elapsed": 720,
     "status": "ok",
     "timestamp": 1623597777749,
     "user": {
      "displayName": "Clash Clans",
      "photoUrl": "",
      "userId": "00562530571182710236"
     },
     "user_tz": -330
    },
    "id": "iUkmWPOdnSTL",
    "outputId": "afea06c8-f767-4624-bb9c-76c3d68bad5d"
   },
   "outputs": [
    {
     "data": {
      "image/png": "[encoded data removed]",
      "text/plain": [
       "<Figure size 720x504 with 1 Axes>"
      ]
     },
     "metadata": {
      "needs_background": "light"
     },
     "output_type": "display_data"
    }
   ],
   "source": [
    "# plot \n",
    "plt.figure(figsize=(10,7))\n",
    "plt.plot(range(y_test.shape[0]),y_test[:,0],marker='*',label='true')\n",
    "plt.plot(range(y_test.shape[0]),gboost_tree_single.predict(X_test),marker='*',label='Gradient Boosting')\n",
    "plt.plot(range(y_test.shape[0]),tree_single.predict(X_test),marker='*',label='predicted tree')\n",
    "plt.grid(),plt.legend()\n",
    "plt.show()"
   ]
  },
  {
   "cell_type": "markdown",
   "metadata": {
    "id": "6ljsu7fQoHuQ"
   },
   "source": [
    "# get me the real ---\n",
    "\n",
    "source: https://datahub.io/core/s-and-p-500-companies-financials"
   ]
  },
  {
   "cell_type": "code",
   "execution_count": 26,
   "metadata": {
    "colab": {
     "base_uri": "https://localhost:8080/",
     "height": 301
    },
    "executionInfo": {
     "elapsed": 1544,
     "status": "ok",
     "timestamp": 1623599892124,
     "user": {
      "displayName": "Clash Clans",
      "photoUrl": "",
      "userId": "00562530571182710236"
     },
     "user_tz": -330
    },
    "id": "-T_0CZhToA1O",
    "outputId": "5d99ab3d-5686-4cdb-ea0e-30ae108a5c75"
   },
   "outputs": [
    {
     "data": {
      "text/html": [
       "<div>\n",
       "<style scoped>\n",
       "    .dataframe tbody tr th:only-of-type {\n",
       "        vertical-align: middle;\n",
       "    }\n",
       "\n",
       "    .dataframe tbody tr th {\n",
       "        vertical-align: top;\n",
       "    }\n",
       "\n",
       "    .dataframe thead th {\n",
       "        text-align: right;\n",
       "    }\n",
       "</style>\n",
       "<table border=\"1\" class=\"dataframe\">\n",
       "  <thead>\n",
       "    <tr style=\"text-align: right;\">\n",
       "      <th></th>\n",
       "      <th>Symbol</th>\n",
       "      <th>Name</th>\n",
       "      <th>Sector</th>\n",
       "      <th>Price</th>\n",
       "      <th>Price/Earnings</th>\n",
       "      <th>Dividend Yield</th>\n",
       "      <th>Earnings/Share</th>\n",
       "      <th>52 Week Low</th>\n",
       "      <th>52 Week High</th>\n",
       "      <th>Market Cap</th>\n",
       "      <th>EBITDA</th>\n",
       "      <th>Price/Sales</th>\n",
       "      <th>Price/Book</th>\n",
       "      <th>SEC Filings</th>\n",
       "    </tr>\n",
       "  </thead>\n",
       "  <tbody>\n",
       "    <tr>\n",
       "      <th>0</th>\n",
       "      <td>MMM</td>\n",
       "      <td>3M Company</td>\n",
       "      <td>Industrials</td>\n",
       "      <td>222.89</td>\n",
       "      <td>24.31</td>\n",
       "      <td>2.332862</td>\n",
       "      <td>7.92</td>\n",
       "      <td>259.77</td>\n",
       "      <td>175.490</td>\n",
       "      <td>138721055226</td>\n",
       "      <td>9.048000e+09</td>\n",
       "      <td>4.390271</td>\n",
       "      <td>11.34</td>\n",
       "      <td>http://www.sec.gov/cgi-bin/browse-edgar?action...</td>\n",
       "    </tr>\n",
       "    <tr>\n",
       "      <th>1</th>\n",
       "      <td>AOS</td>\n",
       "      <td>A.O. Smith Corp</td>\n",
       "      <td>Industrials</td>\n",
       "      <td>60.24</td>\n",
       "      <td>27.76</td>\n",
       "      <td>1.147959</td>\n",
       "      <td>1.70</td>\n",
       "      <td>68.39</td>\n",
       "      <td>48.925</td>\n",
       "      <td>10783419933</td>\n",
       "      <td>6.010000e+08</td>\n",
       "      <td>3.575483</td>\n",
       "      <td>6.35</td>\n",
       "      <td>http://www.sec.gov/cgi-bin/browse-edgar?action...</td>\n",
       "    </tr>\n",
       "    <tr>\n",
       "      <th>2</th>\n",
       "      <td>ABT</td>\n",
       "      <td>Abbott Laboratories</td>\n",
       "      <td>Health Care</td>\n",
       "      <td>56.27</td>\n",
       "      <td>22.51</td>\n",
       "      <td>1.908982</td>\n",
       "      <td>0.26</td>\n",
       "      <td>64.60</td>\n",
       "      <td>42.280</td>\n",
       "      <td>102121042306</td>\n",
       "      <td>5.744000e+09</td>\n",
       "      <td>3.740480</td>\n",
       "      <td>3.19</td>\n",
       "      <td>http://www.sec.gov/cgi-bin/browse-edgar?action...</td>\n",
       "    </tr>\n",
       "  </tbody>\n",
       "</table>\n",
       "</div>"
      ],
      "text/plain": [
       "  Symbol                 Name       Sector   Price  Price/Earnings  \\\n",
       "0    MMM           3M Company  Industrials  222.89           24.31   \n",
       "1    AOS      A.O. Smith Corp  Industrials   60.24           27.76   \n",
       "2    ABT  Abbott Laboratories  Health Care   56.27           22.51   \n",
       "\n",
       "   Dividend Yield  Earnings/Share  52 Week Low  52 Week High    Market Cap  \\\n",
       "0        2.332862            7.92       259.77       175.490  138721055226   \n",
       "1        1.147959            1.70        68.39        48.925   10783419933   \n",
       "2        1.908982            0.26        64.60        42.280  102121042306   \n",
       "\n",
       "         EBITDA  Price/Sales  Price/Book  \\\n",
       "0  9.048000e+09     4.390271       11.34   \n",
       "1  6.010000e+08     3.575483        6.35   \n",
       "2  5.744000e+09     3.740480        3.19   \n",
       "\n",
       "                                         SEC Filings  \n",
       "0  http://www.sec.gov/cgi-bin/browse-edgar?action...  \n",
       "1  http://www.sec.gov/cgi-bin/browse-edgar?action...  \n",
       "2  http://www.sec.gov/cgi-bin/browse-edgar?action...  "
      ]
     },
     "execution_count": 26,
     "metadata": {},
     "output_type": "execute_result"
    }
   ],
   "source": [
    "# data source\n",
    "data_link='https://datahub.io/core/s-and-p-500-companies-financials/r/constituents-financials.csv'\n",
    "\n",
    "# load data\n",
    "snp_500=pd.read_csv(data_link)\n",
    "snp_500.head(3)\n",
    "#EBITDA, or earnings before interest, taxes, depreciation, and amortization"
   ]
  },
  {
   "cell_type": "code",
   "execution_count": 27,
   "metadata": {
    "colab": {
     "base_uri": "https://localhost:8080/"
    },
    "executionInfo": {
     "elapsed": 7,
     "status": "ok",
     "timestamp": 1623599893780,
     "user": {
      "displayName": "Clash Clans",
      "photoUrl": "",
      "userId": "00562530571182710236"
     },
     "user_tz": -330
    },
    "id": "TkphzXaPvm-H",
    "outputId": "b1c5cdbd-4856-42d3-d4fa-2946be0d15fb"
   },
   "outputs": [
    {
     "data": {
      "text/plain": [
       "Index(['Symbol', 'Name', 'Sector', 'Price', 'Price/Earnings', 'Dividend Yield',\n",
       "       'Earnings/Share', '52 Week Low', '52 Week High', 'Market Cap', 'EBITDA',\n",
       "       'Price/Sales', 'Price/Book', 'SEC Filings'],\n",
       "      dtype='object')"
      ]
     },
     "execution_count": 27,
     "metadata": {},
     "output_type": "execute_result"
    }
   ],
   "source": [
    "snp_500.columns"
   ]
  },
  {
   "cell_type": "code",
   "execution_count": 28,
   "metadata": {
    "colab": {
     "base_uri": "https://localhost:8080/",
     "height": 143
    },
    "executionInfo": {
     "elapsed": 12,
     "status": "ok",
     "timestamp": 1623599895320,
     "user": {
      "displayName": "Clash Clans",
      "photoUrl": "",
      "userId": "00562530571182710236"
     },
     "user_tz": -330
    },
    "id": "RtB3k2MLuS_Y",
    "outputId": "bd0bf2e8-10cc-4b9d-e7e0-2a5018a1bb6c"
   },
   "outputs": [
    {
     "data": {
      "text/html": [
       "<div>\n",
       "<style scoped>\n",
       "    .dataframe tbody tr th:only-of-type {\n",
       "        vertical-align: middle;\n",
       "    }\n",
       "\n",
       "    .dataframe tbody tr th {\n",
       "        vertical-align: top;\n",
       "    }\n",
       "\n",
       "    .dataframe thead th {\n",
       "        text-align: right;\n",
       "    }\n",
       "</style>\n",
       "<table border=\"1\" class=\"dataframe\">\n",
       "  <thead>\n",
       "    <tr style=\"text-align: right;\">\n",
       "      <th></th>\n",
       "      <th>symbol</th>\n",
       "      <th>sector</th>\n",
       "      <th>price</th>\n",
       "      <th>profit</th>\n",
       "      <th>divident</th>\n",
       "      <th>earning_share</th>\n",
       "      <th>low</th>\n",
       "      <th>high</th>\n",
       "      <th>market_cap</th>\n",
       "      <th>ebitda</th>\n",
       "      <th>price_sales</th>\n",
       "      <th>book_price</th>\n",
       "    </tr>\n",
       "  </thead>\n",
       "  <tbody>\n",
       "    <tr>\n",
       "      <th>0</th>\n",
       "      <td>MMM</td>\n",
       "      <td>Industrials</td>\n",
       "      <td>222.89</td>\n",
       "      <td>24.31</td>\n",
       "      <td>2.332862</td>\n",
       "      <td>7.92</td>\n",
       "      <td>259.77</td>\n",
       "      <td>175.490</td>\n",
       "      <td>138721055226</td>\n",
       "      <td>9.048000e+09</td>\n",
       "      <td>4.390271</td>\n",
       "      <td>11.34</td>\n",
       "    </tr>\n",
       "    <tr>\n",
       "      <th>1</th>\n",
       "      <td>AOS</td>\n",
       "      <td>Industrials</td>\n",
       "      <td>60.24</td>\n",
       "      <td>27.76</td>\n",
       "      <td>1.147959</td>\n",
       "      <td>1.70</td>\n",
       "      <td>68.39</td>\n",
       "      <td>48.925</td>\n",
       "      <td>10783419933</td>\n",
       "      <td>6.010000e+08</td>\n",
       "      <td>3.575483</td>\n",
       "      <td>6.35</td>\n",
       "    </tr>\n",
       "    <tr>\n",
       "      <th>2</th>\n",
       "      <td>ABT</td>\n",
       "      <td>Health Care</td>\n",
       "      <td>56.27</td>\n",
       "      <td>22.51</td>\n",
       "      <td>1.908982</td>\n",
       "      <td>0.26</td>\n",
       "      <td>64.60</td>\n",
       "      <td>42.280</td>\n",
       "      <td>102121042306</td>\n",
       "      <td>5.744000e+09</td>\n",
       "      <td>3.740480</td>\n",
       "      <td>3.19</td>\n",
       "    </tr>\n",
       "  </tbody>\n",
       "</table>\n",
       "</div>"
      ],
      "text/plain": [
       "  symbol       sector   price  profit  divident  earning_share     low  \\\n",
       "0    MMM  Industrials  222.89   24.31  2.332862           7.92  259.77   \n",
       "1    AOS  Industrials   60.24   27.76  1.147959           1.70   68.39   \n",
       "2    ABT  Health Care   56.27   22.51  1.908982           0.26   64.60   \n",
       "\n",
       "      high    market_cap        ebitda  price_sales  book_price  \n",
       "0  175.490  138721055226  9.048000e+09     4.390271       11.34  \n",
       "1   48.925   10783419933  6.010000e+08     3.575483        6.35  \n",
       "2   42.280  102121042306  5.744000e+09     3.740480        3.19  "
      ]
     },
     "execution_count": 28,
     "metadata": {},
     "output_type": "execute_result"
    }
   ],
   "source": [
    "rename_dict_500={'Symbol':'symbol','Name':'name','Sector':'sector',\n",
    "                 'Price':'price','Price/Earnings':'profit','Dividend Yield':'divident',\n",
    "                 'Earnings/Share':'earning_share','52 Week Low':'low','52 Week High':'high',\n",
    "                 'Market Cap':'market_cap','EBITDA':'ebitda','Price/Sales':'price_sales',\n",
    "                 'Price/Book':'book_price','SEC Filings':'links'}\n",
    "\n",
    "# rename columns \n",
    "mdf_snp_500=snp_500.rename(columns=rename_dict_500)\n",
    "# drop - name,links\n",
    "mdf_snp_500.drop(columns=['name','links'],inplace=True)\n",
    "mdf_snp_500.head(3)"
   ]
  },
  {
   "cell_type": "code",
   "execution_count": 29,
   "metadata": {
    "colab": {
     "base_uri": "https://localhost:8080/",
     "height": 531
    },
    "executionInfo": {
     "elapsed": 1085,
     "status": "ok",
     "timestamp": 1623599897787,
     "user": {
      "displayName": "Clash Clans",
      "photoUrl": "",
      "userId": "00562530571182710236"
     },
     "user_tz": -330
    },
    "id": "daFDnVSEFHPi",
    "outputId": "762e5410-6b03-4a1c-ef0a-3c070e319041"
   },
   "outputs": [
    {
     "data": {
      "image/png": "[encoded data removed]",
      "text/plain": [
       "<Figure size 432x288 with 1 Axes>"
      ]
     },
     "metadata": {
      "needs_background": "light"
     },
     "output_type": "display_data"
    },
    {
     "data": {
      "text/plain": [
       "<AxesSubplot:>"
      ]
     },
     "execution_count": 29,
     "metadata": {},
     "output_type": "execute_result"
    },
    {
     "data": {
      "image/png": "[encoded data removed]",
      "text/plain": [
       "<Figure size 432x288 with 1 Axes>"
      ]
     },
     "metadata": {
      "needs_background": "light"
     },
     "output_type": "display_data"
    }
   ],
   "source": [
    "mdf_snp_500.high.plot(c='r')\n",
    "plt.show()\n",
    "mdf_snp_500.low.plot()"
   ]
  },
  {
   "cell_type": "code",
   "execution_count": 30,
   "metadata": {
    "colab": {
     "base_uri": "https://localhost:8080/",
     "height": 283
    },
    "executionInfo": {
     "elapsed": 641,
     "status": "ok",
     "timestamp": 1623599898414,
     "user": {
      "displayName": "Clash Clans",
      "photoUrl": "",
      "userId": "00562530571182710236"
     },
     "user_tz": -330
    },
    "id": "EWlH6ynME9-B",
    "outputId": "79bd9c8b-c711-4a6d-b06e-861316cf2158"
   },
   "outputs": [
    {
     "data": {
      "text/plain": [
       "<AxesSubplot:>"
      ]
     },
     "execution_count": 30,
     "metadata": {},
     "output_type": "execute_result"
    },
    {
     "data": {
      "image/png": "[encoded data removed]",
      "text/plain": [
       "<Figure size 432x288 with 1 Axes>"
      ]
     },
     "metadata": {
      "needs_background": "light"
     },
     "output_type": "display_data"
    }
   ],
   "source": [
    "mdf_snp_500.profit.plot()"
   ]
  },
  {
   "cell_type": "code",
   "execution_count": 31,
   "metadata": {
    "colab": {
     "base_uri": "https://localhost:8080/"
    },
    "executionInfo": {
     "elapsed": 9,
     "status": "ok",
     "timestamp": 1623599899309,
     "user": {
      "displayName": "Clash Clans",
      "photoUrl": "",
      "userId": "00562530571182710236"
     },
     "user_tz": -330
    },
    "id": "0kKMIyjDAsEM",
    "outputId": "fb3d506d-a675-451b-db39-852e8be1b59d"
   },
   "outputs": [
    {
     "data": {
      "text/plain": [
       "symbol           0\n",
       "sector           0\n",
       "price            0\n",
       "profit           2\n",
       "divident         0\n",
       "earning_share    0\n",
       "low              0\n",
       "high             0\n",
       "market_cap       0\n",
       "ebitda           0\n",
       "price_sales      0\n",
       "book_price       8\n",
       "dtype: int64"
      ]
     },
     "execution_count": 31,
     "metadata": {},
     "output_type": "execute_result"
    }
   ],
   "source": [
    "mdf_snp_500.isna().sum()"
   ]
  },
  {
   "cell_type": "code",
   "execution_count": 32,
   "metadata": {
    "colab": {
     "base_uri": "https://localhost:8080/"
    },
    "executionInfo": {
     "elapsed": 392,
     "status": "ok",
     "timestamp": 1623599904108,
     "user": {
      "displayName": "Clash Clans",
      "photoUrl": "",
      "userId": "00562530571182710236"
     },
     "user_tz": -330
    },
    "id": "ZQi-P34bBIUy",
    "outputId": "98fe64c9-41b1-4521-f7d3-71eaa042fc38"
   },
   "outputs": [
    {
     "data": {
      "text/plain": [
       "(58, 12)"
      ]
     },
     "execution_count": 32,
     "metadata": {},
     "output_type": "execute_result"
    }
   ],
   "source": [
    "mdf_snp_500[mdf_snp_500.ebitda==0].shape"
   ]
  },
  {
   "cell_type": "code",
   "execution_count": 33,
   "metadata": {
    "executionInfo": {
     "elapsed": 6,
     "status": "ok",
     "timestamp": 1623599905621,
     "user": {
      "displayName": "Clash Clans",
      "photoUrl": "",
      "userId": "00562530571182710236"
     },
     "user_tz": -330
    },
    "id": "J4bQ3T3IEr3z"
   },
   "outputs": [],
   "source": [
    "foo_sample=mdf_snp_500[(mdf_snp_500.price/mdf_snp_500.profit)>3]\n",
    "sample_data=[(foo_sample.price/foo_sample.profit)>5]"
   ]
  },
  {
   "cell_type": "code",
   "execution_count": 34,
   "metadata": {
    "colab": {
     "base_uri": "https://localhost:8080/"
    },
    "executionInfo": {
     "elapsed": 715,
     "status": "ok",
     "timestamp": 1623599917123,
     "user": {
      "displayName": "Clash Clans",
      "photoUrl": "",
      "userId": "00562530571182710236"
     },
     "user_tz": -330
    },
    "id": "iZImgkXYypKF",
    "outputId": "af6495ee-fc75-46a9-9a58-e553194daa0a"
   },
   "outputs": [
    {
     "name": "stdout",
     "output_type": "stream",
     "text": [
      "(308, 12)\n"
     ]
    }
   ],
   "source": [
    "# drop null values containing columns \n",
    "mdf_snp_500.dropna(axis=0,how='any',inplace=True)\n",
    "# select data\n",
    "sample_data=mdf_snp_500[(mdf_snp_500.price/mdf_snp_500.profit)>3]\n",
    "#sample_data=mdf_snp_500.copy()\n",
    "print(sample_data.shape)"
   ]
  },
  {
   "cell_type": "code",
   "execution_count": 35,
   "metadata": {
    "colab": {
     "base_uri": "https://localhost:8080/"
    },
    "executionInfo": {
     "elapsed": 363,
     "status": "ok",
     "timestamp": 1623599923949,
     "user": {
      "displayName": "Clash Clans",
      "photoUrl": "",
      "userId": "00562530571182710236"
     },
     "user_tz": -330
    },
    "id": "hAOFKhvpvjt0",
    "outputId": "9b024e1c-81c7-407a-afc5-f23f79678f0d"
   },
   "outputs": [
    {
     "name": "stdout",
     "output_type": "stream",
     "text": [
      "<class 'pandas.core.frame.DataFrame'>\n",
      "Int64Index: 308 entries, 0 to 502\n",
      "Data columns (total 12 columns):\n",
      " #   Column         Non-Null Count  Dtype  \n",
      "---  ------         --------------  -----  \n",
      " 0   symbol         308 non-null    object \n",
      " 1   sector         308 non-null    object \n",
      " 2   price          308 non-null    float64\n",
      " 3   profit         308 non-null    float64\n",
      " 4   divident       308 non-null    float64\n",
      " 5   earning_share  308 non-null    float64\n",
      " 6   low            308 non-null    float64\n",
      " 7   high           308 non-null    float64\n",
      " 8   market_cap     308 non-null    int64  \n",
      " 9   ebitda         308 non-null    float64\n",
      " 10  price_sales    308 non-null    float64\n",
      " 11  book_price     308 non-null    float64\n",
      "dtypes: float64(9), int64(1), object(2)\n",
      "memory usage: 31.3+ KB\n"
     ]
    }
   ],
   "source": [
    "# info\n",
    "sample_data.info()"
   ]
  },
  {
   "cell_type": "code",
   "execution_count": null,
   "metadata": {
    "id": "VVDca9odB9vu"
   },
   "outputs": [],
   "source": []
  },
  {
   "cell_type": "code",
   "execution_count": 36,
   "metadata": {
    "colab": {
     "base_uri": "https://localhost:8080/"
    },
    "executionInfo": {
     "elapsed": 21,
     "status": "ok",
     "timestamp": 1623591424039,
     "user": {
      "displayName": "Clash Clans",
      "photoUrl": "",
      "userId": "00562530571182710236"
     },
     "user_tz": -330
    },
    "id": "3o0i6SSH8ZsB",
    "outputId": "22e701db-d97b-4e22-f73a-6e660339e9ef"
   },
   "outputs": [
    {
     "data": {
      "text/plain": [
       "Consumer Discretionary        52\n",
       "Industrials                   45\n",
       "Health Care                   45\n",
       "Financials                    44\n",
       "Information Technology        43\n",
       "Real Estate                   21\n",
       "Consumer Staples              21\n",
       "Materials                     15\n",
       "Utilities                     14\n",
       "Energy                         7\n",
       "Telecommunication Services     1\n",
       "Name: sector, dtype: int64"
      ]
     },
     "execution_count": 36,
     "metadata": {},
     "output_type": "execute_result"
    }
   ],
   "source": [
    "# count each type in sector\n",
    "sample_data.sector.value_counts()"
   ]
  },
  {
   "cell_type": "markdown",
   "metadata": {
    "id": "KMHOvaEyER_i"
   },
   "source": [
    "### prediction "
   ]
  },
  {
   "cell_type": "code",
   "execution_count": 37,
   "metadata": {
    "colab": {
     "base_uri": "https://localhost:8080/"
    },
    "executionInfo": {
     "elapsed": 374,
     "status": "ok",
     "timestamp": 1623599091116,
     "user": {
      "displayName": "Clash Clans",
      "photoUrl": "",
      "userId": "00562530571182710236"
     },
     "user_tz": -330
    },
    "id": "5R2MKGlmC5Ii",
    "outputId": "a0862c2b-d58d-4804-b7ac-e0f51882b29b"
   },
   "outputs": [
    {
     "data": {
      "text/plain": [
       "Index(['symbol', 'sector', 'price', 'profit', 'divident', 'earning_share',\n",
       "       'low', 'high', 'market_cap', 'ebitda', 'price_sales', 'book_price'],\n",
       "      dtype='object')"
      ]
     },
     "execution_count": 37,
     "metadata": {},
     "output_type": "execute_result"
    }
   ],
   "source": [
    "mdf_snp_500.columns"
   ]
  },
  {
   "cell_type": "code",
   "execution_count": 38,
   "metadata": {
    "colab": {
     "base_uri": "https://localhost:8080/",
     "height": 1000
    },
    "executionInfo": {
     "elapsed": 398,
     "status": "error",
     "timestamp": 1623601498462,
     "user": {
      "displayName": "Clash Clans",
      "photoUrl": "",
      "userId": "00562530571182710236"
     },
     "user_tz": -330
    },
    "id": "AGEoHY6a8pRQ",
    "outputId": "fde17786-b624-493a-d780-9eb32a89c625"
   },
   "outputs": [
    {
     "data": {
      "text/plain": [
       "((277, 2), (31, 2), (277, 2), (31, 2))"
      ]
     },
     "execution_count": 38,
     "metadata": {},
     "output_type": "execute_result"
    }
   ],
   "source": [
    "# x-data - ['low','high','market_cap','ebitda','price_sales','book_price']\n",
    "X_500=sample_data.loc[:,mdf_snp_500.columns[-6:-4]].values \n",
    "# y-labels - ['price','profit']\n",
    "y_500=sample_data.loc[:,['price','profit']].values\n",
    "\n",
    "# normalize \n",
    "X_500_norm,norms_of_x_500=normalize(X_500,norm='l2',axis=0,copy=True,return_norm=True)\n",
    "y_500_norm,norms_of_y_500=normalize(y_500,norm='l2',axis=0,copy=True,return_norm=True)\n",
    "\n",
    "# split data \n",
    "X_train_500,X_test_500,y_train_500,y_test_500=train_test_split(X_500_norm,y_500_norm,test_size=0.10,random_state=8)\n",
    "\n",
    "X_train_500.shape,X_test_500.shape,y_train_500.shape,y_test_500.shape"
   ]
  },
  {
   "cell_type": "code",
   "execution_count": 39,
   "metadata": {
    "colab": {
     "base_uri": "https://localhost:8080/"
    },
    "executionInfo": {
     "elapsed": 385,
     "status": "ok",
     "timestamp": 1623599944849,
     "user": {
      "displayName": "Clash Clans",
      "photoUrl": "",
      "userId": "00562530571182710236"
     },
     "user_tz": -330
    },
    "id": "XASCBXxP9oMx",
    "outputId": "14f3158d-3789-49d8-8370-7e108030495b"
   },
   "outputs": [
    {
     "name": "stdout",
     "output_type": "stream",
     "text": [
      "error Gradient Boosting Regressor-outputs un-norm: [3.85639631]\n",
      "error Gradient Boosting Regressor-outputs un-norm: [0.05142563]\n"
     ]
    }
   ],
   "source": [
    "# make model - un-norm\n",
    "gboost_tree_500=GradientBoostingRegressor(learning_rate=0.05,criterion='mse',random_state=10)\n",
    "# train model \n",
    "gboost_tree_500.fit(X_train_500,y_train_500[:,1])\n",
    "print('error Gradient Boosting Regressor-outputs un-norm:',\n",
    "      mean_absolute_error(y_test_500[:,1],gboost_tree_500.predict(X_test_500),multioutput='raw_values')*norms_of_y_500[1])\n",
    "\n",
    "# scoure https://scikit-learn.org/stable/modules/generated/sklearn.metrics.mean_squared_error.html\n",
    "from sklearn.metrics import mean_squared_error\n",
    "\n",
    "print('error Gradient Boosting Regressor-outputs un-norm:',\n",
    "      mean_squared_error(y_test_500[:,1],gboost_tree_500.predict(X_test_500),multioutput='raw_values')*norms_of_y_500[1])"
   ]
  },
  {
   "cell_type": "code",
   "execution_count": 40,
   "metadata": {
    "id": "D21IMjHMMJfl"
   },
   "outputs": [
    {
     "ename": "SyntaxError",
     "evalue": "invalid syntax (Temp/ipykernel_18912/508213716.py, line 1)",
     "output_type": "error",
     "traceback": [
      "\u001b[1;36m  File \u001b[1;32m\"C:\\Users\\RAJA~1.TIW\\AppData\\Local\\Temp/ipykernel_18912/508213716.py\"\u001b[1;36m, line \u001b[1;32m1\u001b[0m\n\u001b[1;33m    error Gradient Boosting Regressor-outputs un-norm: [3.85639631]\u001b[0m\n\u001b[1;37m          ^\u001b[0m\n\u001b[1;31mSyntaxError\u001b[0m\u001b[1;31m:\u001b[0m invalid syntax\n"
     ]
    }
   ],
   "source": [
    "error Gradient Boosting Regressor-outputs un-norm: [3.85639631]\n",
    "error Gradient Boosting Regressor-outputs un-norm: [0.05142563]"
   ]
  },
  {
   "cell_type": "code",
   "execution_count": null,
   "metadata": {
    "colab": {
     "base_uri": "https://localhost:8080/",
     "height": 428
    },
    "executionInfo": {
     "elapsed": 781,
     "status": "ok",
     "timestamp": 1623599956956,
     "user": {
      "displayName": "Clash Clans",
      "photoUrl": "",
      "userId": "00562530571182710236"
     },
     "user_tz": -330
    },
    "id": "EdXx8w4SAjEG",
    "outputId": "947baf73-2ebd-46bf-b548-afe0b28d41d5"
   },
   "outputs": [],
   "source": [
    "# plot \n",
    "plt.figure(figsize=(10,7))\n",
    "plt.plot(range(y_test_500.shape[0]),y_test_500[:,1]*norms_of_y_500[1],marker='.',label='true')\n",
    "plt.plot(range(y_test_500.shape[0]),gboost_tree_500.predict(X_test_500)*norms_of_y_500[1],marker='.',label='Gradient Boosting')\n",
    "plt.grid(),plt.legend()\n",
    "plt.show()"
   ]
  },
  {
   "cell_type": "code",
   "execution_count": null,
   "metadata": {
    "colab": {
     "base_uri": "https://localhost:8080/"
    },
    "executionInfo": {
     "elapsed": 379,
     "status": "ok",
     "timestamp": 1623600914304,
     "user": {
      "displayName": "Clash Clans",
      "photoUrl": "",
      "userId": "00562530571182710236"
     },
     "user_tz": -330
    },
    "id": "k8HrVP6MJIT5",
    "outputId": "e15fd4f4-1af3-489b-db52-102a40e7c40e"
   },
   "outputs": [],
   "source": [
    "from sklearn.feature_selection import RFE\n",
    "\n",
    "sample_tester_rfe=GradientBoostingRegressor()\n",
    "\n",
    "f_selector=RFE(sample_tester_rfe,n_features_to_select=2,step=1)\n",
    "\n",
    "f_selector.fit(X_500_4_cv,y_500_4_cv[:,1])"
   ]
  },
  {
   "cell_type": "code",
   "execution_count": null,
   "metadata": {
    "colab": {
     "base_uri": "https://localhost:8080/"
    },
    "executionInfo": {
     "elapsed": 375,
     "status": "ok",
     "timestamp": 1623600938290,
     "user": {
      "displayName": "Clash Clans",
      "photoUrl": "",
      "userId": "00562530571182710236"
     },
     "user_tz": -330
    },
    "id": "65GEQl0MJ_Aq",
    "outputId": "eb63076b-a0c4-46de-b301-d4302610abcd"
   },
   "outputs": [],
   "source": [
    "f_selector.n_features_to_select"
   ]
  },
  {
   "cell_type": "code",
   "execution_count": null,
   "metadata": {
    "colab": {
     "base_uri": "https://localhost:8080/"
    },
    "executionInfo": {
     "elapsed": 380,
     "status": "ok",
     "timestamp": 1623600955983,
     "user": {
      "displayName": "Clash Clans",
      "photoUrl": "",
      "userId": "00562530571182710236"
     },
     "user_tz": -330
    },
    "id": "6E_wl7isKEro",
    "outputId": "aaaf6c8c-b975-42b7-8d95-0917b444dcd9"
   },
   "outputs": [],
   "source": [
    "f_selector.support_"
   ]
  },
  {
   "cell_type": "code",
   "execution_count": null,
   "metadata": {
    "colab": {
     "base_uri": "https://localhost:8080/"
    },
    "executionInfo": {
     "elapsed": 368,
     "status": "ok",
     "timestamp": 1623601006801,
     "user": {
      "displayName": "Clash Clans",
      "photoUrl": "",
      "userId": "00562530571182710236"
     },
     "user_tz": -330
    },
    "id": "PtDQcm3cKRk3",
    "outputId": "fbc383bf-b353-4b44-d865-d98eee795749"
   },
   "outputs": [],
   "source": [
    "f_selector.ranking_"
   ]
  },
  {
   "cell_type": "markdown",
   "metadata": {
    "id": "JWxJfBm2Wo4m"
   },
   "source": [
    "### super test model "
   ]
  },
  {
   "cell_type": "code",
   "execution_count": null,
   "metadata": {
    "executionInfo": {
     "elapsed": 391,
     "status": "ok",
     "timestamp": 1623600832380,
     "user": {
      "displayName": "Clash Clans",
      "photoUrl": "",
      "userId": "00562530571182710236"
     },
     "user_tz": -330
    },
    "id": "MYg7oO1DgKwv"
   },
   "outputs": [],
   "source": [
    "# x-data - ['low','high','market_cap','ebitda','price_sales','book_price']\n",
    "X_500=sample_data.loc[:,mdf_snp_500.columns[-6:]].values \n",
    "# y-labels - ['price','profit']\n",
    "y_500=sample_data.loc[:,['price','profit']].values\n",
    "\n",
    "# normalize \n",
    "X_500_4_cv,norms_of_x_500=normalize(X_500,norm='l2',axis=0,copy=True,return_norm=True)\n",
    "y_500_4_cv,norms_of_y_500=normalize(y_500,norm='l2',axis=0,copy=True,return_norm=True)"
   ]
  },
  {
   "cell_type": "code",
   "execution_count": null,
   "metadata": {
    "colab": {
     "base_uri": "https://localhost:8080/"
    },
    "executionInfo": {
     "elapsed": 6550,
     "status": "ok",
     "timestamp": 1623601705829,
     "user": {
      "displayName": "Clash Clans",
      "photoUrl": "",
      "userId": "00562530571182710236"
     },
     "user_tz": -330
    },
    "id": "tuiaE7AnWrfE",
    "outputId": "4fbbb2bb-7c29-4fcc-9371-a3de178a1b0f"
   },
   "outputs": [],
   "source": [
    "# source - https://scikit-learn.org/stable/modules/generated/sklearn.model_selection.cross_validate.html\n",
    "# source - https://scikit-learn.org/stable/modules/generated/sklearn.model_selection.KFold.html\n",
    "# source - https://scikit-learn.org/stable/modules/generated/sklearn.model_selection.GridSearchCV.html\n",
    "from sklearn.model_selection import cross_validate,KFold,GridSearchCV\n",
    "# source - https://scikit-learn.org/stable/modules/generated/sklearn.feature_selection.RFE.html\n",
    "from sklearn.feature_selection import RFE\n",
    "\n",
    "\n",
    "# creating a KFold object with 5 splits \n",
    "folds = KFold(n_splits = 5, shuffle = True, random_state = 100)\n",
    "\n",
    "# specify range of hyperparameters\n",
    "hyper_params = [{'n_features_to_select': list(range(1, 7))}]\n",
    " \n",
    "\n",
    "# Test classifier - GradientBoostingRegressor\n",
    "test_clf_GradientBoostingRegressor=GradientBoostingRegressor(learning_rate=0.05,criterion='mse')\n",
    "test_clf_GradientBoostingRegressor.fit(X_500_4_cv,y_500_4_cv[:,1])\n",
    "\n",
    "# set up GridSearchCV()\n",
    "model_f_select = GridSearchCV(estimator = RFE(test_clf_GradientBoostingRegressor),param_grid = hyper_params, \n",
    "                              scoring= 'r2', cv = folds, verbose = 1, return_train_score=True) \n",
    "\n",
    "# fit the model\n",
    "model_f_select.fit(X_500_4_cv,y_500_4_cv[:,1])                  "
   ]
  },
  {
   "cell_type": "code",
   "execution_count": null,
   "metadata": {
    "colab": {
     "base_uri": "https://localhost:8080/",
     "height": 360
    },
    "executionInfo": {
     "elapsed": 388,
     "status": "ok",
     "timestamp": 1623601200924,
     "user": {
      "displayName": "Clash Clans",
      "photoUrl": "",
      "userId": "00562530571182710236"
     },
     "user_tz": -330
    },
    "id": "LV5p25uKdy23",
    "outputId": "f36b3c70-ab7a-4108-a0fc-fdda6dd16278"
   },
   "outputs": [],
   "source": [
    "# cv results\n",
    "results_ = pd.DataFrame(model_f_select.cv_results_)\n",
    "results_"
   ]
  },
  {
   "cell_type": "code",
   "execution_count": null,
   "metadata": {
    "colab": {
     "base_uri": "https://localhost:8080/",
     "height": 422
    },
    "executionInfo": {
     "elapsed": 469,
     "status": "ok",
     "timestamp": 1623601301670,
     "user": {
      "displayName": "Clash Clans",
      "photoUrl": "",
      "userId": "00562530571182710236"
     },
     "user_tz": -330
    },
    "id": "cfr-xM8oiHgu",
    "outputId": "5f149648-2ecb-4f79-ff6a-7e537e733cb9"
   },
   "outputs": [],
   "source": [
    "# plotting cv results\n",
    "plt.figure(figsize=(16,6))\n",
    "\n",
    "plt.plot(results_[\"param_n_features_to_select\"], results_[\"mean_test_score\"])\n",
    "plt.plot(results_[\"param_n_features_to_select\"], results_[\"mean_train_score\"])\n",
    "plt.xlabel('number of features')\n",
    "plt.ylabel('r-squared')\n",
    "plt.title(\"Optimal Number of Features\")\n",
    "plt.legend(['test score', 'train score'], loc='upper left')"
   ]
  },
  {
   "cell_type": "code",
   "execution_count": null,
   "metadata": {
    "executionInfo": {
     "elapsed": 378,
     "status": "ok",
     "timestamp": 1623601863412,
     "user": {
      "displayName": "Clash Clans",
      "photoUrl": "",
      "userId": "00562530571182710236"
     },
     "user_tz": -330
    },
    "id": "1hbGD2t8LcRX"
   },
   "outputs": [],
   "source": [
    "import seaborn "
   ]
  },
  {
   "cell_type": "code",
   "execution_count": null,
   "metadata": {
    "executionInfo": {
     "elapsed": 375,
     "status": "ok",
     "timestamp": 1623601919449,
     "user": {
      "displayName": "Clash Clans",
      "photoUrl": "",
      "userId": "00562530571182710236"
     },
     "user_tz": -330
    },
    "id": "PmeNzoCTNlRw"
   },
   "outputs": [],
   "source": [
    "d = seaborn.load_dataset('iris')"
   ]
  },
  {
   "cell_type": "code",
   "execution_count": null,
   "metadata": {
    "colab": {
     "base_uri": "https://localhost:8080/"
    },
    "executionInfo": {
     "elapsed": 376,
     "status": "ok",
     "timestamp": 1623602023384,
     "user": {
      "displayName": "Clash Clans",
      "photoUrl": "",
      "userId": "00562530571182710236"
     },
     "user_tz": -330
    },
    "id": "5bJ7ZqNlOLRk",
    "outputId": "d1340064-9b12-4722-8838-5c662cab609d"
   },
   "outputs": [],
   "source": [
    "d.columns"
   ]
  },
  {
   "cell_type": "code",
   "execution_count": null,
   "metadata": {
    "colab": {
     "base_uri": "https://localhost:8080/",
     "height": 745
    },
    "executionInfo": {
     "elapsed": 9143,
     "status": "ok",
     "timestamp": 1623602040019,
     "user": {
      "displayName": "Clash Clans",
      "photoUrl": "",
      "userId": "00562530571182710236"
     },
     "user_tz": -330
    },
    "id": "v5HUM_uQNxHN",
    "outputId": "e21bbfb3-3560-4f4a-9040-44886b574098"
   },
   "outputs": [],
   "source": [
    "seaborn.pairplot(d,hue='species')"
   ]
  },
  {
   "cell_type": "code",
   "execution_count": null,
   "metadata": {
    "id": "5c1UrasCN0ft"
   },
   "outputs": [],
   "source": []
  },
  {
   "cell_type": "code",
   "execution_count": null,
   "metadata": {},
   "outputs": [],
   "source": []
  }
 ],
 "metadata": {
  "colab": {
   "authorship_tag": "ABX9TyPD3VREJD99fvEDUn7D3/Cv",
   "collapsed_sections": [
    "6NBesjUxPGU-",
    "mTO6DRftgMkn",
    "LbYmEGvJg3Hh",
    "d32NCvvNlgsM",
    "MRewQS2esfji",
    "ZFj9K03PUrCI",
    "m78rj2GHxwl5",
    "Lkm9dwYc3bYe",
    "932uJFDR4G0Q",
    "U8VQKxJ35aQZ",
    "oO-Rq4RY_s29",
    "MIf7TykPXRVE",
    "gj6VJY2mp4R0",
    "eVv50QDubB5c",
    "JRpcnAz2ejh5"
   ],
   "name": "day_2.ipynb",
   "provenance": []
  },
  "kernelspec": {
   "display_name": "Python 3 (ipykernel)",
   "language": "python",
   "name": "python3"
  },
  "language_info": {
   "codemirror_mode": {
    "name": "ipython",
    "version": 3
   },
   "file_extension": ".py",
   "mimetype": "text/x-python",
   "name": "python",
   "nbconvert_exporter": "python",
   "pygments_lexer": "ipython3",
   "version": "3.9.7"
  }
 },
 "nbformat": 4,
 "nbformat_minor": 1
}
